{
 "cells": [
  {
   "cell_type": "markdown",
   "metadata": {},
   "source": [
    "- minimum 8 characters\n",
    "- the alphabets must be bottom[a-z]\n",
    "- atleast one alphabet should be uppercase\n",
    "- atleast one digit between[0-9]\n",
    "- atleast one character from [_ or @ or $]\n",
    "- wap program to check the validity of password"
   ]
  },
  {
   "cell_type": "code",
   "execution_count": 19,
   "metadata": {},
   "outputs": [
    {
     "name": "stdout",
     "output_type": "stream",
     "text": [
      "enter the passwordpython123$\n",
      "invalid password\n"
     ]
    }
   ],
   "source": [
    "n=input(\"enter the password\")\n",
    "l=len(n)\n",
    "uppercase=0\n",
    "lowercase=0\n",
    "digit=0\n",
    "specialcase=0\n",
    "if l>=8:\n",
    "    for i in n:\n",
    "        if i.isupper():\n",
    "            uppercase=uppercase+1\n",
    "        if i.islower():\n",
    "            lowercase=lowercase+1\n",
    "        if i.isdigit():\n",
    "            digit=digit+1\n",
    "        if i=='@' or i=='$' or i=='_':\n",
    "            specialcase=specialcase+1\n",
    "    if lowercase>=1 and uppercase>=1 and specialcase>=1 and digit>=1 and lowercase+uppercase+specialcase+digit==len(n):\n",
    "        print(\"valid password\")\n",
    "    else:\n",
    "        print(\"invalid password\")\n",
    "else:\n",
    "    print(\"invalid password\")"
   ]
  },
  {
   "cell_type": "code",
   "execution_count": 28,
   "metadata": {},
   "outputs": [
    {
     "name": "stdout",
     "output_type": "stream",
     "text": [
      "enter string =abcabcabcaxyzabca\n",
      "enter substring =abc\n",
      "found at position =  0\n",
      "found at position =  3\n",
      "found at position =  6\n",
      "found at position =  13\n",
      "occurance =  4\n"
     ]
    }
   ],
   "source": [
    "#wap to display all positions of a substring in a given string\n",
    "string=input(\"enter string =\")\n",
    "sub=input(\"enter substring =\")\n",
    "flag=False\n",
    "pos=-1\n",
    "c=0\n",
    "n=len(string)\n",
    "while True:\n",
    "    pos=string.find(sub,pos+1,n)\n",
    "    if pos==-1:\n",
    "        break\n",
    "    c=c+1\n",
    "    print(\"found at position = \",pos)\n",
    "    flag=True\n",
    "if flag==False:\n",
    "    print(\"not found\")\n",
    "print(\"occurance = \",c)"
   ]
  },
  {
   "cell_type": "code",
   "execution_count": 39,
   "metadata": {},
   "outputs": [
    {
     "name": "stdout",
     "output_type": "stream",
     "text": [
      "enter String123abc\n",
      "abc123\n"
     ]
    }
   ],
   "source": [
    "#wap to sort the characters of the string and first alphabet symbol followed by numeric value\n",
    "#i/p=B2A1D3\n",
    "#o/p=ABD123\n",
    "s=input(\"enter String\")\n",
    "s1=s2=output=\"\"\n",
    "for i in s:\n",
    "    if i.isalpha():\n",
    "        s1=s1+i\n",
    "    if i.isdigit():\n",
    "        s2=s2+i\n",
    "for x in sorted(s1):\n",
    "    output+=x\n",
    "for x in sorted(s2):\n",
    "    output+=x\n",
    "print(output)"
   ]
  },
  {
   "cell_type": "markdown",
   "metadata": {},
   "source": [
    "# Mutable data structures"
   ]
  },
  {
   "cell_type": "markdown",
   "metadata": {},
   "source": [
    "* list\n",
    "- list is dynamic because we can increse or decrease the list  of size\n",
    "- square brackets with comma seperator\n",
    "* creation of list"
   ]
  },
  {
   "cell_type": "code",
   "execution_count": 41,
   "metadata": {},
   "outputs": [
    {
     "name": "stdout",
     "output_type": "stream",
     "text": [
      "[]\n",
      "[1, 2, 3, 4]\n",
      "[1, 3, 5, 7, 9]\n",
      "['a', 'r', 'm', 'a', 'a', 'n']\n"
     ]
    }
   ],
   "source": [
    "l=[]\n",
    "print(l)\n",
    "l=[1,2,3,4]\n",
    "print(l)\n",
    "l=list(range(1,10,2))\n",
    "print(l)\n",
    "s=\"armaan\"\n",
    "x=list(s)\n",
    "print(x)"
   ]
  },
  {
   "cell_type": "code",
   "execution_count": 52,
   "metadata": {},
   "outputs": [
    {
     "name": "stdout",
     "output_type": "stream",
     "text": [
      "enter var123\n",
      "123\n",
      "<class 'int'>\n",
      "['Welcome', 'to', 'LJ', 'university']\n"
     ]
    }
   ],
   "source": [
    "# dynamic input\n",
    "l=eval(input(\"enter var\"))\n",
    "print(l)\n",
    "print(type(l))\n",
    "# split\n",
    "s=\"Welcome to LJ university\"\n",
    "l=s.split()\n",
    "print(l)"
   ]
  },
  {
   "cell_type": "markdown",
   "metadata": {},
   "source": [
    "# list mutability"
   ]
  },
  {
   "cell_type": "code",
   "execution_count": 54,
   "metadata": {},
   "outputs": [
    {
     "name": "stdout",
     "output_type": "stream",
     "text": [
      "[1, 2, 10, 5]\n"
     ]
    }
   ],
   "source": [
    "x=[1,2,4,5]\n",
    "x[2]=10\n",
    "print(x)"
   ]
  },
  {
   "cell_type": "markdown",
   "metadata": {},
   "source": [
    "# accesing elements of list\n",
    "- by using index\n",
    "- by using string operator"
   ]
  },
  {
   "cell_type": "code",
   "execution_count": 58,
   "metadata": {},
   "outputs": [
    {
     "name": "stdout",
     "output_type": "stream",
     "text": [
      "40\n",
      "30\n",
      "[30, 40, 50, 60]\n",
      "[10, 20, 30, 40]\n",
      "[60, 50, 40, 30, 20]\n"
     ]
    }
   ],
   "source": [
    "l=[10,20,30,40,50,60]\n",
    "print(l[3])\n",
    "print(l[-4])\n",
    "print(l[2:100])\n",
    "print(l[:4])\n",
    "print(l[-1:-6:-1])"
   ]
  },
  {
   "cell_type": "code",
   "execution_count": 59,
   "metadata": {},
   "outputs": [
    {
     "name": "stdout",
     "output_type": "stream",
     "text": [
      "4\n"
     ]
    }
   ],
   "source": [
    "# 1. len()\n",
    "l=[1,2,3,4]\n",
    "print(len(l))"
   ]
  },
  {
   "cell_type": "code",
   "execution_count": 60,
   "metadata": {},
   "outputs": [
    {
     "name": "stdout",
     "output_type": "stream",
     "text": [
      "3\n"
     ]
    }
   ],
   "source": [
    "# 2. count()\n",
    "l=[1,2,2,2,3,3,3,3]\n",
    "print(l.count(2))"
   ]
  },
  {
   "cell_type": "code",
   "execution_count": 64,
   "metadata": {},
   "outputs": [
    {
     "name": "stdout",
     "output_type": "stream",
     "text": [
      "1\n",
      "3\n"
     ]
    },
    {
     "ename": "ValueError",
     "evalue": "4 is not in list",
     "output_type": "error",
     "traceback": [
      "\u001b[1;31m---------------------------------------------------------------------------\u001b[0m",
      "\u001b[1;31mValueError\u001b[0m                                Traceback (most recent call last)",
      "\u001b[1;32m<ipython-input-64-d98ef7aec350>\u001b[0m in \u001b[0;36m<module>\u001b[1;34m\u001b[0m\n\u001b[0;32m      3\u001b[0m \u001b[0mprint\u001b[0m\u001b[1;33m(\u001b[0m\u001b[0ml\u001b[0m\u001b[1;33m.\u001b[0m\u001b[0mindex\u001b[0m\u001b[1;33m(\u001b[0m\u001b[1;36m2\u001b[0m\u001b[1;33m)\u001b[0m\u001b[1;33m)\u001b[0m\u001b[1;33m\u001b[0m\u001b[1;33m\u001b[0m\u001b[0m\n\u001b[0;32m      4\u001b[0m \u001b[0mprint\u001b[0m\u001b[1;33m(\u001b[0m\u001b[0ml\u001b[0m\u001b[1;33m.\u001b[0m\u001b[0mindex\u001b[0m\u001b[1;33m(\u001b[0m\u001b[1;36m3\u001b[0m\u001b[1;33m)\u001b[0m\u001b[1;33m)\u001b[0m\u001b[1;33m\u001b[0m\u001b[1;33m\u001b[0m\u001b[0m\n\u001b[1;32m----> 5\u001b[1;33m \u001b[0mprint\u001b[0m\u001b[1;33m(\u001b[0m\u001b[0ml\u001b[0m\u001b[1;33m.\u001b[0m\u001b[0mindex\u001b[0m\u001b[1;33m(\u001b[0m\u001b[1;36m4\u001b[0m\u001b[1;33m)\u001b[0m\u001b[1;33m)\u001b[0m\u001b[1;33m\u001b[0m\u001b[1;33m\u001b[0m\u001b[0m\n\u001b[0m",
      "\u001b[1;31mValueError\u001b[0m: 4 is not in list"
     ]
    }
   ],
   "source": [
    "# 3. index\n",
    "l=[1,2,2,3,3,3]\n",
    "print(l.index(2))\n",
    "print(l.index(3))\n",
    "print(l.index(4))"
   ]
  },
  {
   "cell_type": "code",
   "execution_count": 65,
   "metadata": {},
   "outputs": [
    {
     "name": "stdout",
     "output_type": "stream",
     "text": [
      "['m', 'n', 'a', 'b']\n"
     ]
    }
   ],
   "source": [
    "# 4. append\n",
    "l=[\"m\",\"n\"]\n",
    "l.append(\"a\")\n",
    "l.append(\"b\")\n",
    "print(l)"
   ]
  },
  {
   "cell_type": "code",
   "execution_count": 70,
   "metadata": {},
   "outputs": [
    {
     "name": "stdout",
     "output_type": "stream",
     "text": [
      "[1, 28, 2, 3, 4, 5]\n",
      "[1, 28, 2, 3, 4, 5, 7]\n",
      "[1, 28, 2, 3, 4, 5, 30, 7]\n",
      "[30, 1, 28, 2, 3, 4, 5, 30, 7]\n"
     ]
    }
   ],
   "source": [
    "# 5. insert\n",
    "l=[1,2,3,4,5]\n",
    "l.insert(1,28)\n",
    "print(l)\n",
    "l.insert(10,7)\n",
    "print(l)\n",
    "l.insert(-1,30)\n",
    "print(l)\n",
    "l.insert(-15,30)\n",
    "print(l)"
   ]
  },
  {
   "cell_type": "code",
   "execution_count": 72,
   "metadata": {},
   "outputs": [
    {
     "name": "stdout",
     "output_type": "stream",
     "text": [
      "['apple', 'mango', 'orange', 'watermelon']\n",
      "['orange', 'watermelon', 'apple', 'mango', 'orange', 'watermelon']\n"
     ]
    }
   ],
   "source": [
    "# 6. extend()\n",
    "l1=[\"apple\",\"mango\"]\n",
    "l2=[\"orange\",\"watermelon\"]\n",
    "l1.extend(l2)\n",
    "l2.extend(l1)\n",
    "print(l1)\n",
    "print(l2)"
   ]
  },
  {
   "cell_type": "code",
   "execution_count": 74,
   "metadata": {},
   "outputs": [
    {
     "name": "stdout",
     "output_type": "stream",
     "text": [
      "[2, 1, 3, 1]\n",
      "[2, 3, 1]\n"
     ]
    }
   ],
   "source": [
    "# 7. remove()\n",
    "n=[1,2,1,3,1]\n",
    "n.remove(1)\n",
    "print(n)\n",
    "#n.remove(4)\n",
    "#print(n)\n",
    "n.remove(1)\n",
    "print(n)"
   ]
  },
  {
   "cell_type": "code",
   "execution_count": 77,
   "metadata": {},
   "outputs": [
    {
     "name": "stdout",
     "output_type": "stream",
     "text": [
      "40\n",
      "[10, 20, 30]\n",
      "30\n",
      "[10, 20]\n",
      "20\n",
      "10\n",
      "[]\n"
     ]
    },
    {
     "ename": "IndexError",
     "evalue": "pop from empty list",
     "output_type": "error",
     "traceback": [
      "\u001b[1;31m---------------------------------------------------------------------------\u001b[0m",
      "\u001b[1;31mIndexError\u001b[0m                                Traceback (most recent call last)",
      "\u001b[1;32m<ipython-input-77-5d33f8e4ae58>\u001b[0m in \u001b[0;36m<module>\u001b[1;34m\u001b[0m\n\u001b[0;32m      8\u001b[0m \u001b[0mprint\u001b[0m\u001b[1;33m(\u001b[0m\u001b[0mn\u001b[0m\u001b[1;33m.\u001b[0m\u001b[0mpop\u001b[0m\u001b[1;33m(\u001b[0m\u001b[1;33m)\u001b[0m\u001b[1;33m)\u001b[0m\u001b[1;33m\u001b[0m\u001b[1;33m\u001b[0m\u001b[0m\n\u001b[0;32m      9\u001b[0m \u001b[0mprint\u001b[0m\u001b[1;33m(\u001b[0m\u001b[0mn\u001b[0m\u001b[1;33m)\u001b[0m\u001b[1;33m\u001b[0m\u001b[1;33m\u001b[0m\u001b[0m\n\u001b[1;32m---> 10\u001b[1;33m \u001b[0mprint\u001b[0m\u001b[1;33m(\u001b[0m\u001b[0mn\u001b[0m\u001b[1;33m.\u001b[0m\u001b[0mpop\u001b[0m\u001b[1;33m(\u001b[0m\u001b[1;33m)\u001b[0m\u001b[1;33m)\u001b[0m\u001b[1;33m\u001b[0m\u001b[1;33m\u001b[0m\u001b[0m\n\u001b[0m\u001b[0;32m     11\u001b[0m \u001b[0mprint\u001b[0m\u001b[1;33m(\u001b[0m\u001b[0mn\u001b[0m\u001b[1;33m)\u001b[0m\u001b[1;33m\u001b[0m\u001b[1;33m\u001b[0m\u001b[0m\n",
      "\u001b[1;31mIndexError\u001b[0m: pop from empty list"
     ]
    }
   ],
   "source": [
    "# 8. pop()\n",
    "n=[10,20,30,40]\n",
    "print(n.pop())\n",
    "print(n)\n",
    "print(n.pop())\n",
    "print(n)\n",
    "print(n.pop())\n",
    "print(n.pop())\n",
    "print(n)\n",
    "print(n.pop())\n",
    "print(n)"
   ]
  },
  {
   "cell_type": "code",
   "execution_count": 78,
   "metadata": {},
   "outputs": [
    {
     "name": "stdout",
     "output_type": "stream",
     "text": [
      "60\n",
      "20\n",
      "[10, 30, 40, 50]\n"
     ]
    },
    {
     "ename": "IndexError",
     "evalue": "pop index out of range",
     "output_type": "error",
     "traceback": [
      "\u001b[1;31m---------------------------------------------------------------------------\u001b[0m",
      "\u001b[1;31mIndexError\u001b[0m                                Traceback (most recent call last)",
      "\u001b[1;32m<ipython-input-78-b3b8b2655939>\u001b[0m in \u001b[0;36m<module>\u001b[1;34m\u001b[0m\n\u001b[0;32m      3\u001b[0m \u001b[0mprint\u001b[0m\u001b[1;33m(\u001b[0m\u001b[0mn\u001b[0m\u001b[1;33m.\u001b[0m\u001b[0mpop\u001b[0m\u001b[1;33m(\u001b[0m\u001b[1;36m1\u001b[0m\u001b[1;33m)\u001b[0m\u001b[1;33m)\u001b[0m\u001b[1;33m\u001b[0m\u001b[1;33m\u001b[0m\u001b[0m\n\u001b[0;32m      4\u001b[0m \u001b[0mprint\u001b[0m\u001b[1;33m(\u001b[0m\u001b[0mn\u001b[0m\u001b[1;33m)\u001b[0m\u001b[1;33m\u001b[0m\u001b[1;33m\u001b[0m\u001b[0m\n\u001b[1;32m----> 5\u001b[1;33m \u001b[0mprint\u001b[0m\u001b[1;33m(\u001b[0m\u001b[0mn\u001b[0m\u001b[1;33m.\u001b[0m\u001b[0mpop\u001b[0m\u001b[1;33m(\u001b[0m\u001b[1;36m10\u001b[0m\u001b[1;33m)\u001b[0m\u001b[1;33m)\u001b[0m\u001b[1;33m\u001b[0m\u001b[1;33m\u001b[0m\u001b[0m\n\u001b[0m\u001b[0;32m      6\u001b[0m \u001b[0mprint\u001b[0m\u001b[1;33m(\u001b[0m\u001b[0mn\u001b[0m\u001b[1;33m)\u001b[0m\u001b[1;33m\u001b[0m\u001b[1;33m\u001b[0m\u001b[0m\n",
      "\u001b[1;31mIndexError\u001b[0m: pop index out of range"
     ]
    }
   ],
   "source": [
    "#pop with index and without index\n",
    "n=[10,20,30,40,50,60]\n",
    "print(n.pop())\n",
    "print(n.pop(1))\n",
    "print(n)\n",
    "print(n.pop(10))\n",
    "print(n)"
   ]
  },
  {
   "cell_type": "code",
   "execution_count": 79,
   "metadata": {},
   "outputs": [
    {
     "name": "stdout",
     "output_type": "stream",
     "text": [
      "[]\n"
     ]
    }
   ],
   "source": [
    "# 9. clear()\n",
    "n=[1,2,3,4,5]\n",
    "n.clear()\n",
    "print(n)"
   ]
  },
  {
   "cell_type": "code",
   "execution_count": 80,
   "metadata": {},
   "outputs": [
    {
     "name": "stdout",
     "output_type": "stream",
     "text": [
      "[4, 3, 2, 1]\n"
     ]
    }
   ],
   "source": [
    "# 10. reverse()\n",
    "n=[1,2,3,4]\n",
    "n.reverse()\n",
    "print(n)"
   ]
  },
  {
   "cell_type": "code",
   "execution_count": 82,
   "metadata": {},
   "outputs": [
    {
     "name": "stdout",
     "output_type": "stream",
     "text": [
      "[15, 5, 2, 1, 0]\n"
     ]
    }
   ],
   "source": [
    "# 11.sort()\n",
    "n=[2,5,15,1,0]\n",
    "n.sort(reverse=True)#will give in sorting reverse and should be homogenous either give alphabets or number\n",
    "print(n)"
   ]
  },
  {
   "cell_type": "code",
   "execution_count": 84,
   "metadata": {},
   "outputs": [
    {
     "name": "stdout",
     "output_type": "stream",
     "text": [
      "[1, 2, 3, 4, 5, 6]\n",
      "[1, 2, 3, 4]\n",
      "[1, 2, 3, 1, 2, 3, 1, 2, 3]\n"
     ]
    }
   ],
   "source": [
    "#Mathematicial operators\n",
    "a=[1,2,3]\n",
    "b=[4,5,6]\n",
    "print(a+b)\n",
    "print(a+[4])\n",
    "#print(a+4)\n",
    "print(a*3)"
   ]
  },
  {
   "cell_type": "code",
   "execution_count": null,
   "metadata": {},
   "outputs": [],
   "source": []
  }
 ],
 "metadata": {
  "kernelspec": {
   "display_name": "Python 3",
   "language": "python",
   "name": "python3"
  },
  "language_info": {
   "codemirror_mode": {
    "name": "ipython",
    "version": 3
   },
   "file_extension": ".py",
   "mimetype": "text/x-python",
   "name": "python",
   "nbconvert_exporter": "python",
   "pygments_lexer": "ipython3",
   "version": "3.8.5"
  }
 },
 "nbformat": 4,
 "nbformat_minor": 4
}
