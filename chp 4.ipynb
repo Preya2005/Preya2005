{
 "cells": [
  {
   "cell_type": "markdown",
   "metadata": {},
   "source": [
    "# Immutable data structure\n",
    "1. String\n",
    "2. Tuple\n"
   ]
  },
  {
   "cell_type": "code",
   "execution_count": null,
   "metadata": {},
   "outputs": [],
   "source": []
  },
  {
   "cell_type": "markdown",
   "metadata": {},
   "source": [
    "Accesing characters of string\n",
    "1. by using index\n",
    "2. by using slicing operators"
   ]
  },
  {
   "cell_type": "code",
   "execution_count": 4,
   "metadata": {},
   "outputs": [
    {
     "name": "stdout",
     "output_type": "stream",
     "text": [
      "j\n",
      "y\n",
      "i\n"
     ]
    }
   ],
   "source": [
    "s=\"lj university\"\n",
    "print(s[1])\n",
    "print(s[-1])\n",
    "print(s[5])\n",
    "#print(s[20])   IndexError: string index out of range"
   ]
  },
  {
   "cell_type": "markdown",
   "metadata": {},
   "source": [
    "syntax for slicing index\n",
    "1. s[begin index:end index:step]\n",
    "2. by default step=1"
   ]
  },
  {
   "cell_type": "code",
   "execution_count": 19,
   "metadata": {},
   "outputs": [
    {
     "name": "stdout",
     "output_type": "stream",
     "text": [
      "earnin\n",
      "eri\n",
      "earnin\n",
      "learnin\n",
      "python is very easy!!\n",
      "learning python is very easy!!\n",
      "learning python is very easy!!\n",
      "!!ysae yrev si nohtyp gninrael\n",
      "\n",
      "!!ysae yrev si nohtyp gni\n"
     ]
    }
   ],
   "source": [
    "s=\"learning python is very easy!!\"\n",
    "print(s[1:7:1])\n",
    "print(s[1:7:2])\n",
    "print(s[1:7])\n",
    "print(s[:7])\n",
    "print(s[9:])\n",
    "print(s[::])\n",
    "print(s[:])\n",
    "print(s[::-1])\n",
    "print(s[-1:4])#no output\n",
    "print(s[-1:4:-1])"
   ]
  },
  {
   "cell_type": "markdown",
   "metadata": {},
   "source": [
    "Mathematicial operators for string\n",
    "1. + -> concatenation(+)\n",
    "2. * -> repetition or string multiplication(*)\n"
   ]
  },
  {
   "cell_type": "code",
   "execution_count": 20,
   "metadata": {},
   "outputs": [
    {
     "name": "stdout",
     "output_type": "stream",
     "text": [
      "luckydhairya\n",
      "luckyluckylucky\n"
     ]
    }
   ],
   "source": [
    "print(\"lucky\"+\"dhairya\")\n",
    "print(\"lucky\"*3)"
   ]
  },
  {
   "cell_type": "markdown",
   "metadata": {},
   "source": [
    "Comparision of string"
   ]
  },
  {
   "cell_type": "code",
   "execution_count": 25,
   "metadata": {},
   "outputs": [
    {
     "name": "stdout",
     "output_type": "stream",
     "text": [
      "enter a string = hi\n",
      "enter a string = 5\n",
      "first is greater\n"
     ]
    }
   ],
   "source": [
    "s1=input(\"enter a 1st string = \")\n",
    "s2=input(\"enter a 2nd string = \")\n",
    "if s1==s2:\n",
    "    print(\"both are string\")\n",
    "elif s1<s2:\n",
    "    print(\"second is greater\")\n",
    "else:\n",
    "    print(\"first is greater\")"
   ]
  },
  {
   "cell_type": "markdown",
   "metadata": {},
   "source": [
    "Joining of string\n",
    "1. s=separator.join(group of join)"
   ]
  },
  {
   "cell_type": "code",
   "execution_count": 27,
   "metadata": {},
   "outputs": [
    {
     "name": "stdout",
     "output_type": "stream",
     "text": [
      "apple,banana,cheery\n"
     ]
    }
   ],
   "source": [
    "t=(\"apple\",\"banana\",\"cheery\")\n",
    "s=\",\".join(t)\n",
    "print(s)"
   ]
  },
  {
   "cell_type": "markdown",
   "metadata": {},
   "source": [
    "Formatting of String"
   ]
  },
  {
   "cell_type": "code",
   "execution_count": 31,
   "metadata": {},
   "outputs": [
    {
     "name": "stdout",
     "output_type": "stream",
     "text": [
      "armaan's salary is 50000 and his age is 24\n",
      "armaan's salary is 50000 and his age is 24\n",
      "24's salary is 50000 and his age is armaan\n",
      "armaan's salary is 50000 and his age is\n"
     ]
    }
   ],
   "source": [
    "name=\"armaan\"\n",
    "salary=50000\n",
    "age=24\n",
    "print(\"{}'s salary is {} and his age is {}\".format(name,salary,age))\n",
    "print(\"{0}'s salary is {1} and his age is {2}\".format(name,salary,age))\n",
    "print(\"{2}'s salary is {1} and his age is {0}\".format(name,salary,age))#we can change the order by giving index in{}\n",
    "print(\"{}'s salary is {} and his age is\".format(name,salary,age))"
   ]
  },
  {
   "cell_type": "markdown",
   "metadata": {},
   "source": [
    "Important functions of String\n",
    "1. len()\n"
   ]
  },
  {
   "cell_type": "code",
   "execution_count": 32,
   "metadata": {},
   "outputs": [
    {
     "name": "stdout",
     "output_type": "stream",
     "text": [
      "13\n"
     ]
    }
   ],
   "source": [
    "a=\"lj university\"\n",
    "print(len(a))"
   ]
  },
  {
   "cell_type": "markdown",
   "metadata": {},
   "source": [
    "2. Removing spaces from strip\n"
   ]
  },
  {
   "cell_type": "markdown",
   "metadata": {},
   "source": [
    "1. rstrip()=it will remove space from right side and by defualt space will be removed"
   ]
  },
  {
   "cell_type": "code",
   "execution_count": 38,
   "metadata": {},
   "outputs": [
    {
     "name": "stdout",
     "output_type": "stream",
     "text": [
      "8\n",
      "6\n"
     ]
    }
   ],
   "source": [
    "t=\"banana  \"\n",
    "x=t.rstrip()\n",
    "print(len(t))\n",
    "print(len(x))"
   ]
  },
  {
   "cell_type": "markdown",
   "metadata": {},
   "source": [
    "2. lstrip=it will remove space from left side and by defualt space will be removed"
   ]
  },
  {
   "cell_type": "code",
   "execution_count": 39,
   "metadata": {},
   "outputs": [
    {
     "name": "stdout",
     "output_type": "stream",
     "text": [
      "8\n",
      "8\n"
     ]
    }
   ],
   "source": [
    "t=\"  banana\"\n",
    "x=t.rstrip()\n",
    "print(len(t))\n",
    "print(len(x))"
   ]
  },
  {
   "cell_type": "code",
   "execution_count": 41,
   "metadata": {},
   "outputs": [
    {
     "name": "stdout",
     "output_type": "stream",
     "text": [
      "banana  \n"
     ]
    }
   ],
   "source": [
    "t=\"banana  \"\n",
    "x=t.rstrip(\"a\")\n",
    "print(x)"
   ]
  },
  {
   "cell_type": "code",
   "execution_count": 42,
   "metadata": {},
   "outputs": [
    {
     "name": "stdout",
     "output_type": "stream",
     "text": [
      "banan\n"
     ]
    }
   ],
   "source": [
    "t=\"banana\"\n",
    "x=t.rstrip(\"a\")\n",
    "print(x)"
   ]
  },
  {
   "cell_type": "code",
   "execution_count": 43,
   "metadata": {},
   "outputs": [
    {
     "name": "stdout",
     "output_type": "stream",
     "text": [
      "b\n"
     ]
    }
   ],
   "source": [
    "t=\"banana\"\n",
    "x=t.rstrip(\"an\")\n",
    "print(x)"
   ]
  },
  {
   "cell_type": "code",
   "execution_count": 44,
   "metadata": {},
   "outputs": [
    {
     "name": "stdout",
     "output_type": "stream",
     "text": [
      "band\n"
     ]
    }
   ],
   "source": [
    "t=\"bandana\"\n",
    "x=t.rstrip(\"an\")\n",
    "print(x)"
   ]
  },
  {
   "cell_type": "markdown",
   "metadata": {},
   "source": [
    "3. Strip=it will remove space from both side and by defualt space will be removed"
   ]
  },
  {
   "cell_type": "code",
   "execution_count": 47,
   "metadata": {},
   "outputs": [
    {
     "name": "stdout",
     "output_type": "stream",
     "text": [
      "from all fruit banana is my favourite\n"
     ]
    }
   ],
   "source": [
    "t=\" banana  \"\n",
    "x=t.strip()\n",
    "print(\"from all fruit\",x,\"is my favourite\")"
   ]
  },
  {
   "cell_type": "code",
   "execution_count": 48,
   "metadata": {},
   "outputs": [
    {
     "name": "stdout",
     "output_type": "stream",
     "text": [
      "dana\n"
     ]
    }
   ],
   "source": [
    "t=\"bandana\"\n",
    "x=t.lstrip(\"ban\")\n",
    "print(x)"
   ]
  },
  {
   "cell_type": "code",
   "execution_count": 50,
   "metadata": {},
   "outputs": [
    {
     "name": "stdout",
     "output_type": "stream",
     "text": [
      "from all fruit  bandana  is my favourite\n"
     ]
    }
   ],
   "source": [
    "t=\" bandana \"\n",
    "x=t.lstrip(\"ban\")\n",
    "print(\"from all fruit\",x,\"is my favourite\")"
   ]
  },
  {
   "cell_type": "markdown",
   "metadata": {},
   "source": [
    "3. Changing the case of String\n"
   ]
  },
  {
   "cell_type": "markdown",
   "metadata": {},
   "source": [
    "1. Upper"
   ]
  },
  {
   "cell_type": "code",
   "execution_count": 52,
   "metadata": {},
   "outputs": [
    {
     "name": "stdout",
     "output_type": "stream",
     "text": [
      "HELLO FRIENDS\n"
     ]
    }
   ],
   "source": [
    "t=\"hello friends\"\n",
    "x=t.upper()\n",
    "print(x)"
   ]
  },
  {
   "cell_type": "markdown",
   "metadata": {},
   "source": [
    "2. Lower"
   ]
  },
  {
   "cell_type": "code",
   "execution_count": 53,
   "metadata": {},
   "outputs": [
    {
     "name": "stdout",
     "output_type": "stream",
     "text": [
      "hello friends\n"
     ]
    }
   ],
   "source": [
    "t=\"hello friends\"\n",
    "x=t.lower()\n",
    "print(x)"
   ]
  },
  {
   "cell_type": "markdown",
   "metadata": {},
   "source": [
    "3. swapcase()"
   ]
  },
  {
   "cell_type": "code",
   "execution_count": 58,
   "metadata": {},
   "outputs": [
    {
     "name": "stdout",
     "output_type": "stream",
     "text": [
      "mY nAME IS preya\n"
     ]
    }
   ],
   "source": [
    "t=\"My Name is PREYA\"\n",
    "x=t.swapcase()\n",
    "print(x)"
   ]
  },
  {
   "cell_type": "markdown",
   "metadata": {},
   "source": [
    "4. title()"
   ]
  },
  {
   "cell_type": "code",
   "execution_count": 59,
   "metadata": {},
   "outputs": [
    {
     "name": "stdout",
     "output_type": "stream",
     "text": [
      "Welcome To Ljiet\n"
     ]
    }
   ],
   "source": [
    "t=\"Welcome to LJIET\"\n",
    "x=t.title()\n",
    "print(x)"
   ]
  },
  {
   "cell_type": "markdown",
   "metadata": {},
   "source": [
    "5. Captialize"
   ]
  },
  {
   "cell_type": "code",
   "execution_count": 60,
   "metadata": {},
   "outputs": [
    {
     "name": "stdout",
     "output_type": "stream",
     "text": [
      "Learing python is very easy\n"
     ]
    }
   ],
   "source": [
    "t=\"Learing Python is very easy\"\n",
    "x=t.capitalize()\n",
    "print(x)"
   ]
  },
  {
   "cell_type": "markdown",
   "metadata": {},
   "source": [
    "1. to check type of charaters present in string(check format)\n",
    "2. answer only in true or false"
   ]
  },
  {
   "cell_type": "markdown",
   "metadata": {},
   "source": [
    "1. isalnum(a to z,A to Z,0 to 9) = \n",
    "returns true if all characters is alphabet or numeric"
   ]
  },
  {
   "cell_type": "code",
   "execution_count": 61,
   "metadata": {},
   "outputs": [
    {
     "name": "stdout",
     "output_type": "stream",
     "text": [
      "False\n"
     ]
    }
   ],
   "source": [
    "t=\"company 123\"\n",
    "x=t.isalnum()\n",
    "print(x)"
   ]
  },
  {
   "cell_type": "code",
   "execution_count": 62,
   "metadata": {},
   "outputs": [
    {
     "name": "stdout",
     "output_type": "stream",
     "text": [
      "True\n"
     ]
    }
   ],
   "source": [
    "t=\"company\"\n",
    "x=t.isalnum()\n",
    "print(x)"
   ]
  },
  {
   "cell_type": "markdown",
   "metadata": {},
   "source": [
    "2. isalpha(a to z,A to Z) = returns true if all characters are alphabet"
   ]
  },
  {
   "cell_type": "code",
   "execution_count": 63,
   "metadata": {},
   "outputs": [
    {
     "name": "stdout",
     "output_type": "stream",
     "text": [
      "True\n"
     ]
    }
   ],
   "source": [
    "t=\"company\"\n",
    "x=t.isalpha()\n",
    "print(x)"
   ]
  },
  {
   "cell_type": "markdown",
   "metadata": {},
   "source": [
    "3. isdigit(0-9) or isnumeric() = returns true if all characters are digit minor change in digit and numeric\n"
   ]
  },
  {
   "cell_type": "markdown",
   "metadata": {},
   "source": [
    "1. digit will work in 0-9,superscript and subscript\n",
    "2. numeric will be all"
   ]
  },
  {
   "cell_type": "code",
   "execution_count": 64,
   "metadata": {},
   "outputs": [
    {
     "name": "stdout",
     "output_type": "stream",
     "text": [
      "True\n"
     ]
    }
   ],
   "source": [
    "t=\"500500\"\n",
    "x=t.isdigit()\n",
    "print(x)"
   ]
  },
  {
   "cell_type": "markdown",
   "metadata": {},
   "source": [
    "4. isupper()\n",
    "5. islower()"
   ]
  },
  {
   "cell_type": "code",
   "execution_count": 65,
   "metadata": {},
   "outputs": [
    {
     "name": "stdout",
     "output_type": "stream",
     "text": [
      "True\n"
     ]
    }
   ],
   "source": [
    "t=\"hello world\"\n",
    "x=t.islower()\n",
    "print(x)"
   ]
  },
  {
   "cell_type": "code",
   "execution_count": 70,
   "metadata": {},
   "outputs": [
    {
     "name": "stdout",
     "output_type": "stream",
     "text": [
      "True\n"
     ]
    }
   ],
   "source": [
    "t=\"HELLO WORLD\"\n",
    "x=t.isupper()\n",
    "print(x)"
   ]
  },
  {
   "cell_type": "markdown",
   "metadata": {},
   "source": [
    "6. istitle()"
   ]
  },
  {
   "cell_type": "code",
   "execution_count": 73,
   "metadata": {},
   "outputs": [
    {
     "name": "stdout",
     "output_type": "stream",
     "text": [
      "False\n",
      "True\n",
      "True\n",
      "True\n"
     ]
    }
   ],
   "source": [
    "a=\"HELLO HOW ARE YOU?\"\n",
    "b=\"Hello\"\n",
    "c=\"22 Names\"\n",
    "d=\"This Is %!\"\n",
    "print(a.istitle())\n",
    "print(b.istitle())\n",
    "print(c.istitle())\n",
    "print(d.istitle())"
   ]
  },
  {
   "cell_type": "markdown",
   "metadata": {},
   "source": [
    "7. isidentifier()"
   ]
  },
  {
   "cell_type": "code",
   "execution_count": 75,
   "metadata": {},
   "outputs": [
    {
     "name": "stdout",
     "output_type": "stream",
     "text": [
      "True\n",
      "True\n",
      "False\n",
      "False\n"
     ]
    }
   ],
   "source": [
    "a=\"MyFolder\"\n",
    "b=\"Demo002\"\n",
    "c=\"2 demo\"\n",
    "d=\"my demo\"\n",
    "print(a.isidentifier())\n",
    "print(b.isidentifier())\n",
    "print(c.isidentifier())\n",
    "print(d.isidentifier())\n"
   ]
  },
  {
   "cell_type": "markdown",
   "metadata": {},
   "source": [
    "8. isspace()"
   ]
  },
  {
   "cell_type": "code",
   "execution_count": 78,
   "metadata": {},
   "outputs": [
    {
     "name": "stdout",
     "output_type": "stream",
     "text": [
      "True\n"
     ]
    }
   ],
   "source": [
    "t=\" \"\n",
    "x=t.isspace()\n",
    "print(x)"
   ]
  },
  {
   "cell_type": "code",
   "execution_count": 87,
   "metadata": {},
   "outputs": [
    {
     "name": "stdout",
     "output_type": "stream",
     "text": [
      "15\n",
      "3\n",
      "4\n",
      "3\n",
      "12\n",
      "4\n"
     ]
    }
   ],
   "source": [
    "s=\"Pyt@$h0%n is 12 Very Eas$y\"\n",
    "letters=0\n",
    "digit=0\n",
    "space=0\n",
    "specialcase=0\n",
    "uppercase=0\n",
    "lowercase=0\n",
    "for i in s:\n",
    "    if i.isupper():\n",
    "        uppercase=uppercase+1\n",
    "    elif i.islower():\n",
    "        lowercase=lowercase+1\n",
    "    elif i.isdigit():\n",
    "        digit=digit+1\n",
    "    elif i.isspace():\n",
    "        space=space+1\n",
    "    elif i.isupper():\n",
    "        uppercase=uppercase+1\n",
    "    elif i.islower():\n",
    "        lowercase=lowercase+1\n",
    "    else:\n",
    "        specialcase=specialcase+1\n",
    "for i in s:\n",
    "    if i.isalpha():\n",
    "        letters=letters+1\n",
    "print(letters)\n",
    "print(digit)\n",
    "print(space)\n",
    "print(uppercase)\n",
    "print(lowercase)\n",
    "print(specialcase)"
   ]
  },
  {
   "cell_type": "markdown",
   "metadata": {},
   "source": [
    "9. find()\n"
   ]
  },
  {
   "cell_type": "markdown",
   "metadata": {},
   "source": [
    "1. find(substring)\n",
    "2. find(substring,begin,end)"
   ]
  },
  {
   "cell_type": "code",
   "execution_count": 89,
   "metadata": {},
   "outputs": [
    {
     "name": "stdout",
     "output_type": "stream",
     "text": [
      "2\n",
      "25\n",
      "9\n",
      "-1\n"
     ]
    }
   ],
   "source": [
    "s=\"learning python is very easy\"\n",
    "print(s.find(\"a\"))\n",
    "print(s.find(\"a\",3,100))#what will be index i.e answer\n",
    "print(s.find(\"python\"))\n",
    "print(s.find(\"d\"))"
   ]
  },
  {
   "cell_type": "markdown",
   "metadata": {},
   "source": [
    "10. count()"
   ]
  },
  {
   "cell_type": "markdown",
   "metadata": {},
   "source": [
    "1. s.count(substring)\n",
    "2. s.count(substring,begin,end)"
   ]
  },
  {
   "cell_type": "code",
   "execution_count": 19,
   "metadata": {},
   "outputs": [
    {
     "name": "stdout",
     "output_type": "stream",
     "text": [
      "2\n",
      "1\n",
      "3\n"
     ]
    }
   ],
   "source": [
    "s=\"abcdefabcabegh\"\n",
    "print(s.count(\"a\",3,10))\n",
    "#print(s.count(\"x\")) NameError: name 'x' is not defined\n",
    "print(s.count(\"h\"))\n",
    "print(s.count(\"a\"))"
   ]
  },
  {
   "cell_type": "markdown",
   "metadata": {},
   "source": [
    "11. replace() = s.replace(old String,new string)\n"
   ]
  },
  {
   "cell_type": "code",
   "execution_count": 20,
   "metadata": {},
   "outputs": [
    {
     "name": "stdout",
     "output_type": "stream",
     "text": [
      "learning python is very easy\n",
      "lebrning jbva is very easy\n"
     ]
    }
   ],
   "source": [
    "s=\"learning java is very easy\"\n",
    "s1=s.replace(\"java\",\"python\")\n",
    "print(s1)\n",
    "s2=s.replace(\"a\",\"b\",2)\n",
    "print(s2)"
   ]
  },
  {
   "cell_type": "markdown",
   "metadata": {},
   "source": [
    "12.split()=s.split(separator)"
   ]
  },
  {
   "cell_type": "code",
   "execution_count": 27,
   "metadata": {},
   "outputs": [
    {
     "name": "stdout",
     "output_type": "stream",
     "text": [
      "['LJ', 'University']\n",
      "2\n",
      "['10', '04', '2024']\n",
      "['1', '-', '4-2', '24']\n",
      "['10-0', '-202', '']\n"
     ]
    }
   ],
   "source": [
    "s=\"LJ University\"\n",
    "s1=s.split()\n",
    "print(s1)\n",
    "print(len(s1))\n",
    "s=\"10-04-2024\"\n",
    "s3=s.split(\"-\")\n",
    "print(s3)\n",
    "s4=s.split(\"0\")\n",
    "print(s4)\n",
    "s5=s.split(\"4\")\n",
    "print(s5)"
   ]
  },
  {
   "cell_type": "markdown",
   "metadata": {},
   "source": [
    "13. remove punctuation using translator() function=translate() with maketrans function"
   ]
  },
  {
   "cell_type": "code",
   "execution_count": 29,
   "metadata": {},
   "outputs": [
    {
     "name": "stdout",
     "output_type": "stream",
     "text": [
      "!\"#$%&'()*+,-./:;<=>?@[\\]^_`{|}~\n",
      "32\n"
     ]
    }
   ],
   "source": [
    "import string\n",
    "print(string.punctuation)\n",
    "print(len(string.punctuation))"
   ]
  },
  {
   "cell_type": "markdown",
   "metadata": {},
   "source": [
    "maketrons\n",
    "- 3 argument version\n",
    "- first two argument equal length strings\n",
    "- thrid\n",
    "- characters in string is mapped to none\n"
   ]
  },
  {
   "cell_type": "code",
   "execution_count": 42,
   "metadata": {},
   "outputs": [
    {
     "name": "stdout",
     "output_type": "stream",
     "text": [
      "{33: None, 34: None, 35: None, 36: None, 37: None, 38: None, 39: None, 40: None, 41: None, 42: None, 43: None, 44: None, 45: None, 46: None, 47: None, 58: None, 59: None, 60: None, 61: None, 62: None, 63: None, 64: None, 91: None, 92: None, 93: None, 94: None, 95: None, 96: None, 123: None, 124: None, 125: None, 126: None}\n",
      "{32: 32, 33: None, 34: None, 35: None, 36: None, 37: None, 38: None, 39: None, 40: None, 41: None, 42: None, 43: None, 44: None, 45: None, 46: None, 47: None, 58: None, 59: None, 60: None, 61: None, 62: None, 63: None, 64: None, 91: None, 92: None, 93: None, 94: None, 95: None, 96: None, 123: None, 124: None, 125: None, 126: None}\n",
      "{97: 100, 33: None, 34: None, 35: None, 36: None, 37: None, 38: None, 39: None, 40: None, 41: None, 42: None, 43: None, 44: None, 45: None, 46: None, 47: None, 58: None, 59: None, 60: None, 61: None, 62: None, 63: None, 64: None, 91: None, 92: None, 93: None, 94: None, 95: None, 96: None, 123: None, 124: None, 125: None, 126: None}\n",
      "{97: 100, 36: None, 64: None}\n"
     ]
    }
   ],
   "source": [
    "import string\n",
    "print(str.maketrans(\"\",\"\",string.punctuation))\n",
    "print(str.maketrans(\" \",\" \",string.punctuation))\n",
    "print(str.maketrans(\"a\",\"d\",string.punctuation))\n",
    "print(str.maketrans(\"a\",\"d\",\"$@\"))\n",
    "#print(str.maketrans(\"a\",\"bc\",\"$@\")) ValueError: the first two maketrans arguments must have equal length"
   ]
  },
  {
   "cell_type": "code",
   "execution_count": 53,
   "metadata": {},
   "outputs": [
    {
     "name": "stdout",
     "output_type": "stream",
     "text": [
      "lebrning python is very ebsy\n"
     ]
    }
   ],
   "source": [
    "import string\n",
    "s=\"learn@ing pyt$%h!on is very eas$y\"\n",
    "t=s.maketrans(\"a\",\"b\",string.punctuation)\n",
    "#t=s.maketrans(\" \",\" \",string.punctuation)\n",
    "x=s.translate(t)\n",
    "print(x)"
   ]
  },
  {
   "cell_type": "code",
   "execution_count": 58,
   "metadata": {},
   "outputs": [
    {
     "name": "stdout",
     "output_type": "stream",
     "text": [
      "hi Joe!!\n"
     ]
    }
   ],
   "source": [
    "t=\"hi Sam!!\"\n",
    "x=\"mSa\"\n",
    "y=\"eJo\"\n",
    "mytable=t.maketrans(x,y)\n",
    "print(t.translate(mytable))"
   ]
  },
  {
   "cell_type": "markdown",
   "metadata": {},
   "source": [
    "# Tuple"
   ]
  },
  {
   "cell_type": "markdown",
   "metadata": {},
   "source": [
    "- exactly same as list except it is immutable\n",
    "- tuple is read only version of list\n",
    "- data is fixed and never changes then we should go for tuple\n",
    "- insertion order is preserved\n",
    "- duplicates are allowed\n",
    "- heterogenous objects are allowed = in tuple tuple is also allowed as well as list is allowed \n",
    "- we can preserved insertions order and differentiation\n",
    "- duplicates by using index\n",
    "- index will play very important role in tuple also\n",
    "- supports the +ve and -ve indexing\n",
    "- represent tuple elements with () parenthesis and with comma separator"
   ]
  },
  {
   "cell_type": "markdown",
   "metadata": {},
   "source": [
    "Creation of tuple"
   ]
  },
  {
   "cell_type": "code",
   "execution_count": 62,
   "metadata": {},
   "outputs": [
    {
     "name": "stdout",
     "output_type": "stream",
     "text": [
      "<class 'tuple'>\n",
      "<class 'int'>\n",
      "<class 'tuple'>\n",
      "(10, 20, 30, 40)\n",
      "(10, 12, 14, 16, 18)\n"
     ]
    }
   ],
   "source": [
    "t=()\n",
    "print(type(t))\n",
    "t=(10)# type integer\n",
    "print(type(t))\n",
    "t=(10,)\n",
    "print(type(t))\n",
    "t=10,20,30,40\n",
    "print(t)\n",
    "t=tuple(range(10,20,2))\n",
    "print(t)"
   ]
  },
  {
   "cell_type": "markdown",
   "metadata": {},
   "source": [
    "Accesing elements of tuple \n",
    "1. by using index"
   ]
  },
  {
   "cell_type": "code",
   "execution_count": 64,
   "metadata": {},
   "outputs": [
    {
     "name": "stdout",
     "output_type": "stream",
     "text": [
      "30\n",
      "10\n",
      "60\n",
      "20\n"
     ]
    }
   ],
   "source": [
    "t=10,20,30,40,50,60\n",
    "print(t[2])\n",
    "print(t[0])\n",
    "print(t[-1])\n",
    "print(t[-5])\n",
    "#print(t[10]) IndexError: tuple index out of range"
   ]
  },
  {
   "cell_type": "markdown",
   "metadata": {},
   "source": [
    "2. by using slicing operator"
   ]
  },
  {
   "cell_type": "code",
   "execution_count": 66,
   "metadata": {},
   "outputs": [
    {
     "name": "stdout",
     "output_type": "stream",
     "text": [
      "(30, 40, 50)\n",
      "(40, 50, 60)\n",
      "(40, 50, 60)\n",
      "(20, 40, 60)\n",
      "(10, 30, 50)\n",
      "(10, 30)\n",
      "()\n",
      "(60, 50, 40)\n"
     ]
    }
   ],
   "source": [
    "t=10,20,30,40,50,60\n",
    "print(t[2:5])\n",
    "print(t[3:100])\n",
    "print(t[3:])\n",
    "print(t[1::2])\n",
    "print(t[::2])\n",
    "print(t[:3:2])\n",
    "print(t[-1:-4])\n",
    "print(t[-1:-4:-1])"
   ]
  },
  {
   "cell_type": "code",
   "execution_count": 67,
   "metadata": {},
   "outputs": [
    {
     "ename": "TypeError",
     "evalue": "'tuple' object does not support item assignment",
     "output_type": "error",
     "traceback": [
      "\u001b[1;31m---------------------------------------------------------------------------\u001b[0m",
      "\u001b[1;31mTypeError\u001b[0m                                 Traceback (most recent call last)",
      "\u001b[1;32m<ipython-input-67-410b8b80d7f4>\u001b[0m in \u001b[0;36m<module>\u001b[1;34m\u001b[0m\n\u001b[0;32m      1\u001b[0m \u001b[0mt\u001b[0m\u001b[1;33m=\u001b[0m\u001b[1;33m(\u001b[0m\u001b[1;36m10\u001b[0m\u001b[1;33m,\u001b[0m\u001b[1;36m20\u001b[0m\u001b[1;33m,\u001b[0m\u001b[1;36m30\u001b[0m\u001b[1;33m,\u001b[0m\u001b[1;36m40\u001b[0m\u001b[1;33m)\u001b[0m\u001b[1;33m\u001b[0m\u001b[1;33m\u001b[0m\u001b[0m\n\u001b[1;32m----> 2\u001b[1;33m \u001b[0mt\u001b[0m\u001b[1;33m[\u001b[0m\u001b[1;36m2\u001b[0m\u001b[1;33m]\u001b[0m\u001b[1;33m=\u001b[0m\u001b[1;36m70\u001b[0m\u001b[1;33m\u001b[0m\u001b[1;33m\u001b[0m\u001b[0m\n\u001b[0m\u001b[0;32m      3\u001b[0m \u001b[0mprint\u001b[0m\u001b[1;33m(\u001b[0m\u001b[0mt\u001b[0m\u001b[1;33m)\u001b[0m\u001b[1;33m\u001b[0m\u001b[1;33m\u001b[0m\u001b[0m\n",
      "\u001b[1;31mTypeError\u001b[0m: 'tuple' object does not support item assignment"
     ]
    }
   ],
   "source": [
    "t=(10,20,30,40)\n",
    "t[2]=70#doesnot allow to change the data\n",
    "print(t)#TypeError: 'tuple' object does not support item assignment"
   ]
  },
  {
   "cell_type": "code",
   "execution_count": 68,
   "metadata": {},
   "outputs": [
    {
     "name": "stdout",
     "output_type": "stream",
     "text": [
      "(10, 20, 30, 40, 50, 60)\n",
      "(10, 20, 30, 10, 20, 30, 10, 20, 30)\n"
     ]
    }
   ],
   "source": [
    "'''mathematical operator\n",
    "+ -> concatenation\n",
    "* -> repetition'''\n",
    "t1=(10,20,30)\n",
    "t2=(40,50,60)\n",
    "t=t1+t2\n",
    "print(t)\n",
    "x=t1*3\n",
    "print(x)"
   ]
  },
  {
   "cell_type": "code",
   "execution_count": 71,
   "metadata": {},
   "outputs": [
    {
     "name": "stdout",
     "output_type": "stream",
     "text": [
      "4\n",
      "3\n",
      "1\n",
      "0\n",
      "0\n",
      "1\n"
     ]
    }
   ],
   "source": [
    "#1. len()\n",
    "t=(10,20,30,40)\n",
    "print(len(t))\n",
    "#2. count()\n",
    "t=(10,20,30,10,20,40,50,10,80)\n",
    "print(t.count(10))\n",
    "print(t.count(40))\n",
    "print(t.count(60))\n",
    "#3. index\n",
    "t=(10,20,10,30,40,20)\n",
    "print(t.index(10))\n",
    "print(t.index(20))\n",
    "#print(t.index(50)) ValueError: tuple.index(x): x not in tuple"
   ]
  },
  {
   "cell_type": "code",
   "execution_count": 78,
   "metadata": {},
   "outputs": [
    {
     "name": "stdout",
     "output_type": "stream",
     "text": [
      "[40, 30, 20, 10]\n",
      "10\n",
      "60\n",
      "ABC\n",
      "dxz\n"
     ]
    }
   ],
   "source": [
    "#4. sorted()\n",
    "t=(40,10,20,30)\n",
    "#t1=sorted(t)\n",
    "t1=sorted(t,reverse=True)\n",
    "print(t1)# by default answer is in list not in tuple\n",
    "#5. min() and max() function\n",
    "t=(20,10,40,50,60)\n",
    "print(min(t))\n",
    "print(max(t))\n",
    "t=(\"abc\",\"ABC\",\"def\",\"dxz\")\n",
    "print(min(t))\n",
    "print(max(t))"
   ]
  },
  {
   "cell_type": "code",
   "execution_count": 82,
   "metadata": {},
   "outputs": [
    {
     "name": "stdout",
     "output_type": "stream",
     "text": [
      "(10, 20, 30, 40)\n",
      "10 20 30 40\n"
     ]
    }
   ],
   "source": [
    "# tuple packing\n",
    "a=10\n",
    "b=20\n",
    "c=30\n",
    "d=40\n",
    "t=a,b,c,d\n",
    "print(t)\n",
    "#tuple unpacking\n",
    "t=(10,20,30,40)\n",
    "a,b,c,d=t\n",
    "print(a,b,c,d)\n",
    "t=(10,20,30,40)\n",
    "#a,b,c=t\n",
    "#print(a,b,c)ValueError: too many values to unpack (expected 3)"
   ]
  },
  {
   "cell_type": "code",
   "execution_count": 84,
   "metadata": {},
   "outputs": [
    {
     "name": "stdout",
     "output_type": "stream",
     "text": [
      "apple\n",
      "banana\n",
      "cheery\n",
      "apple\n",
      "banana\n",
      "cheery\n"
     ]
    }
   ],
   "source": [
    "# loop through tuple\n",
    "t=(\"apple\",\"banana\",\"cheery\")\n",
    "for i in t:\n",
    "    print(i)\n",
    "for i in range(len(t)):\n",
    "    print(t[i])"
   ]
  },
  {
   "cell_type": "code",
   "execution_count": 10,
   "metadata": {},
   "outputs": [
    {
     "name": "stdout",
     "output_type": "stream",
     "text": [
      "apple\n",
      "banana\n",
      "cheery\n"
     ]
    }
   ],
   "source": [
    "t=(\"apple\",\"banana\",\"cheery\")\n",
    "n=0\n",
    "while n<len(t):\n",
    "    print(t[n])\n",
    "    n=n+1"
   ]
  },
  {
   "cell_type": "code",
   "execution_count": 64,
   "metadata": {},
   "outputs": [
    {
     "name": "stdout",
     "output_type": "stream",
     "text": [
      "['p', ' ', 'n', 'o', 'h', 't', 'y', 'p']\n",
      "['n', 'o', 'h', 't', 'y', 'p']\n",
      "[8, 7, 6, 5]\n",
      "[50, 20, 80, 40, 10]\n"
     ]
    }
   ],
   "source": [
    " # reversed()\n",
    "# computes reverse of a given sequence object and is in term of list\n",
    "s=\"python\"\n",
    "print(list(reversed(s)))#by defualt list if you want to write tuple you can write it compulsory to write eitherlistortuple \n",
    "x=(\"p\",\"y\",\"t\",\"h\",\"o\",\"n\")\n",
    "print(list(reversed(x)))\n",
    "y=range(5,9)\n",
    "print(list(reversed(y)))\n",
    "z=[10,40,80,20,50]\n",
    "print(list(reversed(z)))"
   ]
  },
  {
   "cell_type": "code",
   "execution_count": 21,
   "metadata": {},
   "outputs": [
    {
     "name": "stdout",
     "output_type": "stream",
     "text": [
      "[(0, 'eat'), (1, 'sleep'), (2, 'walk')]\n",
      "[(10, 'eat'), (11, 'sleep'), (12, 'walk')]\n",
      "[(0, 'g'), (1, 'e'), (2, 'e'), (3, 'k')]\n",
      "(0, 'h')\n",
      "(1, 'e')\n",
      "(2, 'l')\n",
      "(3, 'l')\n",
      "(4, 'o')\n",
      "(5, ' ')\n",
      "(6, 'h')\n",
      "(7, 'o')\n",
      "(8, 'w')\n",
      "(9, ' ')\n",
      "(10, 'a')\n",
      "(11, 'r')\n",
      "(12, 'e')\n",
      "(13, ' ')\n",
      "(14, 'y')\n",
      "(15, 'o')\n",
      "(16, 'u')\n",
      "0 -> h\n",
      "1 -> e\n",
      "2 -> l\n",
      "3 -> l\n",
      "4 -> o\n",
      "5 ->  \n",
      "6 -> h\n",
      "7 -> o\n",
      "8 -> w\n",
      "9 ->  \n",
      "10 -> a\n",
      "11 -> r\n",
      "12 -> e\n",
      "13 ->  \n",
      "14 -> y\n",
      "15 -> o\n",
      "16 -> u\n"
     ]
    }
   ],
   "source": [
    "# enumerate\n",
    "# enumerate(iterable,start=0)\n",
    "l=(\"eat\",\"sleep\",\"walk\")\n",
    "print(list(enumerate(l)))\n",
    "print(list(enumerate(l,10)))\n",
    "s=\"geek\"\n",
    "print(list(enumerate(s)))\n",
    "s=\"hello how are you\"\n",
    "for i in enumerate(s):\n",
    "    print(i)\n",
    "for i,j in enumerate(s):\n",
    "    print(i,\"->\",j)"
   ]
  },
  {
   "cell_type": "code",
   "execution_count": 4,
   "metadata": {},
   "outputs": [
    {
     "name": "stdout",
     "output_type": "stream",
     "text": [
      "enter the index6\n",
      "hello orld\n"
     ]
    }
   ],
   "source": [
    "# wap to remove ith character from the string\n",
    "s=\"hello world\"\n",
    "i=int(input(\"enter the index\"))\n",
    "x=s[:i]+s[i+1:]\n",
    "print(x)"
   ]
  },
  {
   "cell_type": "code",
   "execution_count": 9,
   "metadata": {},
   "outputs": [
    {
     "name": "stdout",
     "output_type": "stream",
     "text": [
      "4\n"
     ]
    }
   ],
   "source": [
    "# wap to find all occurances of a substring in a given string by ignoring the keys\n",
    "s=\"Welcome to USA usa is awesome usain is from Usa\"\n",
    "sub=\"usa\"\n",
    "n=s.lower()\n",
    "print(n.count(sub))"
   ]
  },
  {
   "cell_type": "code",
   "execution_count": 21,
   "metadata": {},
   "outputs": [
    {
     "name": "stdout",
     "output_type": "stream",
     "text": [
      "22\n",
      "3.142857142857143\n"
     ]
    }
   ],
   "source": [
    "#Wap to calculate sum and avg of the digits present in a string\n",
    "s=\"pytA$123th%4237\"\n",
    "count=0\n",
    "sum=0\n",
    "for i in s:\n",
    "    if i.isdigit():\n",
    "        count=count+1\n",
    "        sum=sum+int(i)\n",
    "print(sum)\n",
    "print(sum/count)"
   ]
  },
  {
   "cell_type": "code",
   "execution_count": 33,
   "metadata": {},
   "outputs": [
    {
     "name": "stdout",
     "output_type": "stream",
     "text": [
      "pyt##123th#4237\n"
     ]
    }
   ],
   "source": [
    "#wap to replace each special symbol with # in the given string\n",
    "import string\n",
    "s=\"pyt@$123th%4237\"\n",
    "for i in string.punctuation:\n",
    "    s=s.replace(i,\"#\")\n",
    "print(s)"
   ]
  },
  {
   "cell_type": "code",
   "execution_count": 36,
   "metadata": {},
   "outputs": [
    {
     "name": "stdout",
     "output_type": "stream",
     "text": [
      "4 1\n"
     ]
    }
   ],
   "source": [
    "#wap to print minimum and maximum element in a given tuple without use of min max function and \n",
    "#without sorting\n",
    "t=[1,2,3,4]\n",
    "min=t[0]\n",
    "max=t[0]\n",
    "for i in t:\n",
    "    if i<min:\n",
    "        min=i\n",
    "    if i>max:\n",
    "        max=i\n",
    "print(max,min)"
   ]
  },
  {
   "cell_type": "code",
   "execution_count": 49,
   "metadata": {},
   "outputs": [
    {
     "name": "stdout",
     "output_type": "stream",
     "text": [
      "['welcome', 'to', 'LJ', 'university']\n",
      "to\n",
      "LJ\n",
      "university\n"
     ]
    }
   ],
   "source": [
    "#wap to print even length words in a given string\n",
    "s=\"welcome to LJ university\"\n",
    "a=s.split()\n",
    "print(a)\n",
    "for i in a:\n",
    "    if len(i)%2==0:\n",
    "        print(i)"
   ]
  },
  {
   "cell_type": "code",
   "execution_count": 57,
   "metadata": {},
   "outputs": [
    {
     "name": "stdout",
     "output_type": "stream",
     "text": [
      "ALone\n"
     ]
    }
   ],
   "source": [
    "# wap to uppercase a half string\n",
    "s=\"University\"\n",
    "s=\"alone\"\n",
    "print(s[:len(s)//2].upper()+s[len(s)//2:])"
   ]
  },
  {
   "cell_type": "code",
   "execution_count": 82,
   "metadata": {},
   "outputs": [
    {
     "name": "stdout",
     "output_type": "stream",
     "text": [
      "WelcomE TO LJ UniversitY \n"
     ]
    }
   ],
   "source": [
    "#wap to to capitalize first and last letter of each word\n",
    "s=\"Welcome to lj university\"\n",
    "s=s.title()\n",
    "r=\"\"\n",
    "for i in s.split():\n",
    "    r+=i[:-1]+i[-1].upper()+\" \"\n",
    "print(r)"
   ]
  },
  {
   "cell_type": "code",
   "execution_count": 89,
   "metadata": {},
   "outputs": [
    {
     "name": "stdout",
     "output_type": "stream",
     "text": [
      "enter a 1st string = jeetx\n",
      "enter a 2nd string = jeet\n",
      "not balanced\n"
     ]
    }
   ],
   "source": [
    "#wap to check two strings are balanced\n",
    "#if all characters of s1 are present in s2\n",
    "#characters position doesn't matter\n",
    "s1=input(\"enter a 1st string = \")\n",
    "s2=input(\"enter a 2nd string = \")\n",
    "flag=0\n",
    "for i in s1:\n",
    "    if i in s2:\n",
    "        continue\n",
    "    else:\n",
    "        flag=1\n",
    "        break\n",
    "if flag==0:\n",
    "    print(\"balanced\")\n",
    "else:\n",
    "    print(\"not balanced\")"
   ]
  },
  {
   "cell_type": "code",
   "execution_count": 95,
   "metadata": {},
   "outputs": [
    {
     "name": "stdout",
     "output_type": "stream",
     "text": [
      "enter number = 12345\n",
      "enter shift = 6\n",
      "54321\n"
     ]
    }
   ],
   "source": [
    "'''input  input      input\n",
    "n=12345   n=12345    n=12345\n",
    "shift=3   shift=5    shift=6\n",
    "output\n",
    "result=45123 result=12345  result=54321'''\n",
    "#wap to shift the decimal digits and places to the left wrapping the extra digits around\n",
    "#if shift is> the no of digits then reverse the digits\n",
    "n=int(input(\"enter number = \"))\n",
    "shift=int(input(\"enter shift = \"))\n",
    "n1=str(n)\n",
    "r=0\n",
    "if shift>len(n1):\n",
    "    r=n1[::-1]\n",
    "else:\n",
    "    r=n1[shift::]+n1[:shift]\n",
    "print(r)"
   ]
  },
  {
   "cell_type": "code",
   "execution_count": null,
   "metadata": {},
   "outputs": [],
   "source": []
  },
  {
   "cell_type": "code",
   "execution_count": null,
   "metadata": {},
   "outputs": [],
   "source": []
  },
  {
   "cell_type": "code",
   "execution_count": null,
   "metadata": {},
   "outputs": [],
   "source": []
  }
 ],
 "metadata": {
  "kernelspec": {
   "display_name": "Python 3",
   "language": "python",
   "name": "python3"
  },
  "language_info": {
   "codemirror_mode": {
    "name": "ipython",
    "version": 3
   },
   "file_extension": ".py",
   "mimetype": "text/x-python",
   "name": "python",
   "nbconvert_exporter": "python",
   "pygments_lexer": "ipython3",
   "version": "3.8.5"
  }
 },
 "nbformat": 4,
 "nbformat_minor": 4
}
