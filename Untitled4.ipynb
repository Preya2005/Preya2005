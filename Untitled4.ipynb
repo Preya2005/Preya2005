{
 "cells": [
  {
   "cell_type": "code",
   "execution_count": 2,
   "metadata": {},
   "outputs": [
    {
     "name": "stdout",
     "output_type": "stream",
     "text": [
      "['kiwi', 'date', 'cherry', 'banana', 'apple']\n"
     ]
    }
   ],
   "source": [
    "#1. sorted()\n",
    "#2. sort()\n",
    "a=[\"apple\",\"banana\",\"cherry\",\"date\",\"kiwi\"]\n",
    "l=sorted(a,reverse=True)\n",
    "print(l)"
   ]
  },
  {
   "cell_type": "code",
   "execution_count": 3,
   "metadata": {},
   "outputs": [
    {
     "name": "stdout",
     "output_type": "stream",
     "text": [
      "['apple', 'banana', 'cherry', 'date', 'kiwi']\n"
     ]
    }
   ],
   "source": [
    "a=[\"apple\",\"banana\",\"cherry\",\"date\",\"kiwi\"]\n",
    "l=sorted(a)\n",
    "print(l)"
   ]
  },
  {
   "cell_type": "code",
   "execution_count": 4,
   "metadata": {},
   "outputs": [
    {
     "name": "stdout",
     "output_type": "stream",
     "text": [
      "['date', 'kiwi', 'apple', 'banana', 'cherry']\n"
     ]
    }
   ],
   "source": [
    "a=[\"apple\",\"banana\",\"cherry\",\"date\",\"kiwi\"]\n",
    "l=sorted(a,key=len)\n",
    "print(l)"
   ]
  },
  {
   "cell_type": "code",
   "execution_count": 5,
   "metadata": {},
   "outputs": [
    {
     "name": "stdout",
     "output_type": "stream",
     "text": [
      "['banana', 'cherry', 'apple', 'date', 'kiwi']\n"
     ]
    }
   ],
   "source": [
    "a=[\"apple\",\"banana\",\"cherry\",\"date\",\"kiwi\"]\n",
    "l=sorted(a,key=len,reverse=True)\n",
    "print(l)"
   ]
  },
  {
   "cell_type": "code",
   "execution_count": 6,
   "metadata": {},
   "outputs": [
    {
     "name": "stdout",
     "output_type": "stream",
     "text": [
      "['orange', 'cherry', 'apple', 'date', 'kiwi']\n"
     ]
    }
   ],
   "source": [
    "a=[\"apple\",\"orange\",\"cherry\",\"date\",\"kiwi\"]\n",
    "l=sorted(a,key=len,reverse=True)\n",
    "print(l)"
   ]
  },
  {
   "cell_type": "code",
   "execution_count": 8,
   "metadata": {},
   "outputs": [
    {
     "name": "stdout",
     "output_type": "stream",
     "text": [
      "['banana', 'apple', 'date', 'kiwi', 'cherry']\n"
     ]
    }
   ],
   "source": [
    "a=[\"apple\",\"banana\",\"cherry\",\"date\",\"kiwi\"]\n",
    "def fun(word):\n",
    "    return word[-1]\n",
    "l=sorted(a,key=fun)\n",
    "print(l)"
   ]
  },
  {
   "cell_type": "code",
   "execution_count": 9,
   "metadata": {},
   "outputs": [
    {
     "name": "stdout",
     "output_type": "stream",
     "text": [
      "['banana', 'apple', 'date', 'kiwi', 'cherry']\n"
     ]
    }
   ],
   "source": [
    "a=[\"apple\",\"banana\",\"cherry\",\"date\",\"kiwi\"]\n",
    "l=sorted(a,key=lambda word:word[-1])\n",
    "print(l)"
   ]
  },
  {
   "cell_type": "code",
   "execution_count": 10,
   "metadata": {},
   "outputs": [
    {
     "name": "stdout",
     "output_type": "stream",
     "text": [
      "[(3, 1), (2, 2), (1, 3)]\n"
     ]
    }
   ],
   "source": [
    "a=[(1,3),(2,2),(3,1)]\n",
    "l=sorted(a,key=lambda x:x[1])\n",
    "print(l)"
   ]
  },
  {
   "cell_type": "code",
   "execution_count": 11,
   "metadata": {},
   "outputs": [
    {
     "name": "stdout",
     "output_type": "stream",
     "text": [
      "['apple', 'banana#cherry#orange']\n",
      "['apple', 'banana', 'cherry#orange']\n",
      "['apple', 'banana', 'cherry', 'orange']\n",
      "['apple', 'banana', 'cherry', 'orange']\n"
     ]
    }
   ],
   "source": [
    "txt=\"apple#banana#cherry#orange\"\n",
    "x=txt.split(\"#\",1)#Max split parameter\n",
    "print(x)\n",
    "y=txt.split(\"#\",2)\n",
    "print(y)\n",
    "z=txt.split(\"#\",3)\n",
    "print(z)\n",
    "l=txt.split(\"#\")\n",
    "print(l)"
   ]
  },
  {
   "cell_type": "code",
   "execution_count": 16,
   "metadata": {},
   "outputs": [
    {
     "name": "stdout",
     "output_type": "stream",
     "text": [
      "howmany pizza you want to order2\n",
      "enter pizza size 1.small = 50 2.medium = 100 3.large = 2001\n",
      "enter toppings 1.corn,2.tomato,3.onion,4.capsicum 20 each 5.mushroom,6.olives,7.brocolli 50 each1\n",
      "enter chesse 1.feta,2.mozarella,3.chedoor1\n",
      "enter pizza size 1.small = 50 2.medium = 100 3.large = 2001\n",
      "enter toppings 1.corn,2.tomato,3.onion,4.capsicum 20 each 5.mushroom,6.olives,7.brocolli 50 each1\n",
      "enter chesse 1.feta,2.mozarella,3.chedoor1\n",
      "240\n"
     ]
    }
   ],
   "source": [
    "# calculate pizza price\n",
    "# pizza size\n",
    "# small = 50 \n",
    "# medium = 100\n",
    "# large = 200\n",
    "# toppings\n",
    "# corn,tomato,onion,capsicum 20 each\n",
    "# mushroom,olives,brocolli 50 each\n",
    "# cheese type\n",
    "# feta,mozarella,chedoor 50 each\n",
    "n=int(input(\"howmany pizza you want to order\"))\n",
    "p=0\n",
    "for i in range (n):\n",
    "    a=int(input(\"enter pizza size 1.small = 50 2.medium = 100 3.large = 200\"))\n",
    "    b=int(input(\"enter toppings 1.corn,2.tomato,3.onion,4.capsicum 20 each 5.mushroom,6.olives,7.brocolli 50 each\"))\n",
    "    c=int(input(\"enter chesse 1.feta,2.mozarella,3.chedoor\"))\n",
    "    if a==1:\n",
    "        p=p+50\n",
    "    elif a==2:\n",
    "        p=p+100\n",
    "    else:\n",
    "        p=p+200\n",
    "    if b==1 or b==2 or b==3 or b==4:\n",
    "        p=p+20\n",
    "    else:\n",
    "        p=p+50\n",
    "    if c==1 or c==2 or c==3:\n",
    "        p=p+50\n",
    "print(p)"
   ]
  }
 ],
 "metadata": {
  "kernelspec": {
   "display_name": "Python 3",
   "language": "python",
   "name": "python3"
  },
  "language_info": {
   "codemirror_mode": {
    "name": "ipython",
    "version": 3
   },
   "file_extension": ".py",
   "mimetype": "text/x-python",
   "name": "python",
   "nbconvert_exporter": "python",
   "pygments_lexer": "ipython3",
   "version": "3.8.5"
  }
 },
 "nbformat": 4,
 "nbformat_minor": 4
}
