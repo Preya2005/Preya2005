{
 "cells": [
  {
   "cell_type": "code",
   "execution_count": 6,
   "metadata": {},
   "outputs": [
    {
     "name": "stdout",
     "output_type": "stream",
     "text": [
      "[1, 4, 5]\n"
     ]
    }
   ],
   "source": [
    "# wap to find the index at which the elements of two list doesnot match\n",
    "l1=[1,2,3,4,5,6]\n",
    "l2=[1,5,3,4,7,8]\n",
    "l3=[]\n",
    "for i in range (len(l1)):\n",
    "    if l1[i]!=l2[i]:\n",
    "        l3.append(i)\n",
    "print(l3)"
   ]
  },
  {
   "cell_type": "code",
   "execution_count": 31,
   "metadata": {},
   "outputs": [
    {
     "name": "stdout",
     "output_type": "stream",
     "text": [
      "enter number = [5,5,2,5,8]\n",
      "[5, 5, 2, 5, 8]\n",
      "index to be removed =  0\n",
      "list after removing index =  [5, 2, 5, 8]\n",
      "index to be removed =  1\n",
      "list after removing index =  [5, 2, 5, 8]\n",
      "total number of special elements 2\n"
     ]
    }
   ],
   "source": [
    "# given a list l of size n.you need to count the no. of special element in the given list\n",
    "# an element is special if the removal of that element make the list balance the list will be balanced if the sum of even \n",
    "# is equal to the sum of odd elment also print the updated list after removal of special elements\n",
    "l=eval(input(\"enter number = \"))\n",
    "print(l)\n",
    "count=0\n",
    "for i in range(len(l)):\n",
    "    c=l.copy()\n",
    "    c.pop(i)\n",
    "    sum1=sum2=0\n",
    "    for k in c[::2]:\n",
    "        sum1+=k\n",
    "    for k in c[1::2]:\n",
    "        sum2+=k\n",
    "    if  sum1==sum2:\n",
    "        print(\"index to be removed = \",i)\n",
    "        count+=1\n",
    "        print(\"list after removing index = \",l[0:i]+l[i+1:])\n",
    "print(\"total number of special elements\",count) #2164"
   ]
  },
  {
   "cell_type": "code",
   "execution_count": 35,
   "metadata": {},
   "outputs": [
    {
     "name": "stdout",
     "output_type": "stream",
     "text": [
      "25\n",
      "the square of =  16\n",
      " the sum of =  30\n"
     ]
    }
   ],
   "source": [
    "# lambda function\n",
    "# it is a function without any name is called anonymous and lambda function\n",
    "# syntax = lambda argument_list:expression\n",
    "def square(n):\n",
    "    return n*n\n",
    "print(square(5))\n",
    "# lambda function\n",
    "s=lambda n:n*n\n",
    "print(\"the square of = \",s(4))\n",
    "s=lambda a,b:a+b\n",
    "print(\" the sum of = \",s(10,20))"
   ]
  },
  {
   "cell_type": "markdown",
   "metadata": {},
   "source": [
    "# lambda function\n",
    "- map()\n",
    "- syntax = map(function,sequence)\n",
    "- for every element present in given sequence,apply some functionality and generate new element with required modification "
   ]
  },
  {
   "cell_type": "code",
   "execution_count": 40,
   "metadata": {},
   "outputs": [
    {
     "name": "stdout",
     "output_type": "stream",
     "text": [
      "[2, 4, 6, 8, 10]\n",
      "[2, 4, 6, 8, 10]\n",
      "[2, 4, 6, 8, 10]\n"
     ]
    }
   ],
   "source": [
    "# map without lambda function\n",
    "l=[1,2,3,4,5]\n",
    "def double(x):\n",
    "    return 2*x\n",
    "l1=list(map(double,l))\n",
    "print(l1)\n",
    "# map with lambda function\n",
    "l=[1,2,3,4,5]\n",
    "l1=list(map(lambda x:2*x,l))\n",
    "print(l1)\n",
    "l1=[1,2,3,4,5]\n",
    "l2=[1,2,3,4,5]\n",
    "l3=list(map(lambda x,y:x+y,l1,l2))\n",
    "print(l3)"
   ]
  },
  {
   "cell_type": "markdown",
   "metadata": {},
   "source": [
    "- reduce()\n",
    "- reduce sequence of elements into a single ement by applying the specified function \n",
    "- syntax = reduce(function,sequence)\n",
    "- reduce() function present in functools module so we need to import that first to reduce function()"
   ]
  },
  {
   "cell_type": "code",
   "execution_count": 42,
   "metadata": {},
   "outputs": [
    {
     "name": "stdout",
     "output_type": "stream",
     "text": [
      "150\n",
      "12000000\n"
     ]
    }
   ],
   "source": [
    "from functools import *\n",
    "l=[10,20,30,40,50]\n",
    "sum=reduce(lambda x,y:x+y,l)\n",
    "print(sum)\n",
    "mul=reduce(lambda x,y:x*y,l)\n",
    "print(mul)"
   ]
  },
  {
   "cell_type": "markdown",
   "metadata": {},
   "source": [
    "- filter()\n",
    "- we can use filter function to filter value from given sequence based on some condition\n",
    "- syntax = filter(function,sequence)\n",
    "- function argument is responsible to perform condition check\n",
    "- in sequence it can be list,tuple etc()"
   ]
  },
  {
   "cell_type": "code",
   "execution_count": 45,
   "metadata": {},
   "outputs": [
    {
     "name": "stdout",
     "output_type": "stream",
     "text": [
      "[0, 10, 20, 30]\n",
      "[0, 5, 10, 15, 20, 25, 30]\n",
      "[5, 15, 25]\n"
     ]
    }
   ],
   "source": [
    "def iseven(x):\n",
    "    if x%2==0:\n",
    "        return True\n",
    "    else:\n",
    "        return False\n",
    "l=[0,5,10,15,20,25,30]\n",
    "l1=list(filter(iseven,l))\n",
    "print(l1)\n",
    "l1=list(filter(lambda x:x%2==0,l))\n",
    "print(l)\n",
    "l=[0,5,10,15,20,25,30]\n",
    "l1=list(filter(lambda x:x%2,l))\n",
    "print(l1)"
   ]
  },
  {
   "cell_type": "code",
   "execution_count": 48,
   "metadata": {},
   "outputs": [
    {
     "name": "stdout",
     "output_type": "stream",
     "text": [
      "['APPLE', 'BANANA', 'CHERRY']\n"
     ]
    }
   ],
   "source": [
    "#wap to convert strings to uppercase using map()\n",
    "words=[\"apple\",\"banana\",\"cherry\"]\n",
    "l1=list(map(lambda x:x.upper(),words))\n",
    "print(l1)"
   ]
  },
  {
   "cell_type": "code",
   "execution_count": 49,
   "metadata": {},
   "outputs": [
    {
     "name": "stdout",
     "output_type": "stream",
     "text": [
      "['banana', 'cherry', 'strawberry']\n"
     ]
    }
   ],
   "source": [
    "#wap to filter words with length greater than 5\n",
    "words=[\"apple\",\"banana\",\"cherry\",\"strawberry\",\"kiwi\"]\n",
    "l1=list(filter(lambda x:len(x)>5,words))\n",
    "print(l1)"
   ]
  },
  {
   "cell_type": "code",
   "execution_count": 50,
   "metadata": {},
   "outputs": [
    {
     "name": "stdout",
     "output_type": "stream",
     "text": [
      "[19, 26, 39, 52, 65, 76, 95]\n"
     ]
    }
   ],
   "source": [
    "#wap to find numbers divisible by 19 or 13 from a list of number using lambda\n",
    "l=[19,26,39,52,65,15,76,95]\n",
    "l1=list(filter(lambda x:x%13==0 or x%19==0,l))\n",
    "print(l1)"
   ]
  }
 ],
 "metadata": {
  "kernelspec": {
   "display_name": "Python 3",
   "language": "python",
   "name": "python3"
  },
  "language_info": {
   "codemirror_mode": {
    "name": "ipython",
    "version": 3
   },
   "file_extension": ".py",
   "mimetype": "text/x-python",
   "name": "python",
   "nbconvert_exporter": "python",
   "pygments_lexer": "ipython3",
   "version": "3.8.5"
  }
 },
 "nbformat": 4,
 "nbformat_minor": 4
}
