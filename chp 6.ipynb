{
 "cells": [
  {
   "cell_type": "markdown",
   "metadata": {},
   "source": [
    "# Chp-6 Working With Files"
   ]
  },
  {
   "cell_type": "markdown",
   "metadata": {},
   "source": [
    "1.Inbuilt Function\n",
    "- STEP 1 CREATE\n",
    "- STEP 2 WRITE\n",
    "- STEP 3 READING\n",
    "2.Types of files\n",
    "- text\n",
    "- binary(machine undestandable language)(not in syllabus)\n",
    "3.Modes of Operation\n",
    "- r,r+,w,w+,a,a+\n",
    "1. read only('r')\n",
    "- handle position at the beginning of the files\n",
    "- if the file doesnot exist it raises i/o error\n",
    "- default mode"
   ]
  },
  {
   "cell_type": "code",
   "execution_count": 18,
   "metadata": {},
   "outputs": [
    {
     "name": "stdout",
     "output_type": "stream",
     "text": [
      "this is pythonthis is java\n",
      "False\n",
      "True\n",
      "this is pythonthis is java\n",
      "False\n",
      "True\n",
      "\n",
      "\n"
     ]
    }
   ],
   "source": [
    "f=open(\"demo.txt\",\"r\")\n",
    "#f=open(\"demo.txt\")\n",
    "#f=open(\"demo.txt\",rt)\n",
    "print(f.read())\n",
    "print(f.closed)\n",
    "f.close()\n",
    "print(f.closed)# answer will be in boolean \n",
    "with open(\"demo.txt\",\"r\") as f:\n",
    "    print(f.read())\n",
    "    print(f.closed)# if we print without indendation the file will by default closed\n",
    "print(f.closed)\n",
    "# f=open(\"demo1.txt\",\"r\")# filenotfounderror\n",
    "with open(\"demo.txt\",\"w+\") as f:\n",
    "    print(f.read())#text is removed\n",
    "with open(\"demo.txt\",\"w+\") as f:\n",
    "    print(f.read())#new file created"
   ]
  },
  {
   "cell_type": "code",
   "execution_count": 20,
   "metadata": {},
   "outputs": [
    {
     "ename": "UnsupportedOperation",
     "evalue": "not writable",
     "output_type": "error",
     "traceback": [
      "\u001b[1;31m---------------------------------------------------------------------------\u001b[0m",
      "\u001b[1;31mUnsupportedOperation\u001b[0m                      Traceback (most recent call last)",
      "\u001b[1;32m<ipython-input-20-9d12fdab890d>\u001b[0m in \u001b[0;36m<module>\u001b[1;34m\u001b[0m\n\u001b[0;32m      9\u001b[0m \u001b[0mf\u001b[0m\u001b[1;33m.\u001b[0m\u001b[0mclose\u001b[0m\u001b[1;33m(\u001b[0m\u001b[1;33m)\u001b[0m\u001b[1;33m\u001b[0m\u001b[1;33m\u001b[0m\u001b[0m\n\u001b[0;32m     10\u001b[0m \u001b[0mf\u001b[0m\u001b[1;33m=\u001b[0m\u001b[0mopen\u001b[0m\u001b[1;33m(\u001b[0m\u001b[1;34m\"demo.txt\"\u001b[0m\u001b[1;33m,\u001b[0m\u001b[1;34m\"r\"\u001b[0m\u001b[1;33m)\u001b[0m\u001b[1;33m\u001b[0m\u001b[1;33m\u001b[0m\u001b[0m\n\u001b[1;32m---> 11\u001b[1;33m \u001b[0mf\u001b[0m\u001b[1;33m.\u001b[0m\u001b[0mwrite\u001b[0m\u001b[1;33m(\u001b[0m\u001b[1;34m\"this is java\"\u001b[0m\u001b[1;33m)\u001b[0m\u001b[1;33m\u001b[0m\u001b[1;33m\u001b[0m\u001b[0m\n\u001b[0m\u001b[0;32m     12\u001b[0m \u001b[0mf\u001b[0m\u001b[1;33m.\u001b[0m\u001b[0mclose\u001b[0m\u001b[1;33m(\u001b[0m\u001b[1;33m)\u001b[0m\u001b[1;33m\u001b[0m\u001b[1;33m\u001b[0m\u001b[0m\n",
      "\u001b[1;31mUnsupportedOperation\u001b[0m: not writable"
     ]
    }
   ],
   "source": [
    "f=open(\"demo.txt\",\"a+\")\n",
    "f.write(\"this is java\")\n",
    "f.close()#this is pythonthis is java\n",
    "f=open(\"demo.txt\",\"r+\")\n",
    "f.write(\"this is java\")\n",
    "f.close()#this is javaon\n",
    "f=open(\"demo.txt\",\"w+\")\n",
    "f.write(\"this is java\")\n",
    "f.close()\n",
    "f=open(\"demo.txt\",\"r\")\n",
    "f.write(\"this is java\")\n",
    "f.close()"
   ]
  },
  {
   "cell_type": "markdown",
   "metadata": {},
   "source": [
    "- operation/modes  r,r+,w,w+,a,a+\n",
    "- read r,r+,w+,a+\n",
    "- write r+,w,w+,a,a+\n",
    "- create w,w+,a,a+\n",
    "- truncate w,w+\n",
    "- position at start r,r+,w,w+\n",
    "- position at end a,a+"
   ]
  },
  {
   "cell_type": "code",
   "execution_count": 24,
   "metadata": {},
   "outputs": [
    {
     "name": "stdout",
     "output_type": "stream",
     "text": [
      "14\n",
      "\n",
      "5\n",
      "is python\n"
     ]
    }
   ],
   "source": [
    "f=open(\"demo.txt\",\"r+\")\n",
    "f.write(\"this is python\")\n",
    "print(f.tell())#current position of file handle(cursor)\n",
    "print(f.read())\n",
    "f.seek(5)#change the position of file handle(cursor) f.seek(0)\n",
    "print(f.tell())\n",
    "print(f.read())\n",
    "f.close()"
   ]
  },
  {
   "cell_type": "markdown",
   "metadata": {},
   "source": [
    "- read() = by defualt -1 which means \n",
    "- readline()\n",
    "- readlines()"
   ]
  },
  {
   "cell_type": "code",
   "execution_count": 31,
   "metadata": {},
   "outputs": [
    {
     "data": {
      "text/plain": [
       "'is '"
      ]
     },
     "execution_count": 31,
     "metadata": {},
     "output_type": "execute_result"
    }
   ],
   "source": [
    "f=open(\"demo.txt\",\"r\")\n",
    "f.read(5)\n",
    "f.read(10)\n",
    "f.read(3)#answer will be in string"
   ]
  },
  {
   "cell_type": "code",
   "execution_count": 38,
   "metadata": {},
   "outputs": [
    {
     "name": "stdout",
     "output_type": "stream",
     "text": [
      "this \n",
      "is pyth\n",
      "on 1\n",
      "\n",
      "this is python 2\n",
      "\n",
      "this is python 3\n",
      "\n",
      "['this is python 4\\n', 'this is python 5']\n"
     ]
    }
   ],
   "source": [
    "f=open(\"test1.txt\",\"r\")\n",
    "print(f.readline(5))# total 17 character including /n\n",
    "print(f.readline(7))\n",
    "print(f.readline(10))\n",
    "print(f.readline(20))\n",
    "print(f.readline(50))# answer will be in string"
   ]
  },
  {
   "cell_type": "code",
   "execution_count": 43,
   "metadata": {},
   "outputs": [
    {
     "name": "stdout",
     "output_type": "stream",
     "text": [
      "['this is python 1\\n', 'this is python 2\\n']\n",
      "['this is python 3\\n', 'this is python 4\\n', 'this is python 5 \\n']\n"
     ]
    }
   ],
   "source": [
    "f=open(\"test1.txt\",\"r\")\n",
    "print(f.readlines(33))# answer will be in list\n",
    "print(f.readlines(40))"
   ]
  },
  {
   "cell_type": "markdown",
   "metadata": {},
   "source": [
    "- write() string\n",
    "- writelines() list"
   ]
  },
  {
   "cell_type": "code",
   "execution_count": 47,
   "metadata": {},
   "outputs": [],
   "source": [
    "f=open(\"test1.txt\",\"w\")\n",
    "f.write(\"this is text data\")\n",
    "f.close()\n",
    "with open(\"test1.txt\",\"w\") as f:\n",
    "    f.write(\"alternate method\")"
   ]
  },
  {
   "cell_type": "code",
   "execution_count": 9,
   "metadata": {},
   "outputs": [],
   "source": [
    "f=open(\"test1.txt\",\"w\")\n",
    "l=[\"A\",\"B\",\"C\",\"D\"]\n",
    "f.writelines(l)\n",
    "f.close()"
   ]
  },
  {
   "cell_type": "code",
   "execution_count": 56,
   "metadata": {},
   "outputs": [
    {
     "name": "stdout",
     "output_type": "stream",
     "text": [
      "enter namea\n",
      "enter nameb\n",
      "enter namec\n",
      "enter named\n",
      "enter namee\n"
     ]
    }
   ],
   "source": [
    "f=open(\"test1.txt\",\"w\")\n",
    "for i in range(5):\n",
    "    n=input(\"enter name\")\n",
    "    l.append(n+\"\\n\")\n",
    "f.writelines(n+\"\\n\")\n",
    "f.close()\n",
    "    "
   ]
  },
  {
   "cell_type": "code",
   "execution_count": 8,
   "metadata": {},
   "outputs": [
    {
     "name": "stdout",
     "output_type": "stream",
     "text": [
      "False\n",
      "demo.txt\n",
      "a+\n",
      "True\n",
      "True\n"
     ]
    }
   ],
   "source": [
    "f=open(\"demo.txt\",\"a+\")\n",
    "print(f.closed)\n",
    "print(f.name)\n",
    "print(f.mode)\n",
    "print(f.readable())\n",
    "print(f.writable())"
   ]
  },
  {
   "cell_type": "code",
   "execution_count": 26,
   "metadata": {},
   "outputs": [],
   "source": [
    "# wap to copy the content of one file to another file\n",
    "f1=open(\"demo.txt\",\"r\")\n",
    "f=f1.read()\n",
    "f2=open(\"demo1.txt\",\"w\")\n",
    "f2.write(f)\n",
    "f2.close()\n",
    "f1.close()"
   ]
  },
  {
   "cell_type": "code",
   "execution_count": 29,
   "metadata": {},
   "outputs": [],
   "source": [
    "#write a dictionary to the file in python\n",
    "details={\"name\":\"alice\",\"age\":22,\"degree\":\"cse\",\"university\":\"oxford\"}\n",
    "f=open(\"data.txt\",\"w+\")\n",
    "for i,j in details.items():\n",
    "    f.write(str(i)+\":\"+str(j)+\"\\n\")\n",
    "f.close()"
   ]
  },
  {
   "cell_type": "code",
   "execution_count": 50,
   "metadata": {},
   "outputs": [],
   "source": [
    "#wap to copy the content of one file to another file in uppercase,reverse,line wise reverse\n",
    "f1=open(\"demo.txt\",\"r\")\n",
    "f=f1.readlines()\n",
    "f2=open(\"demo1.txt\",\"w\")\n",
    "f2.writelines(list(reversed(f)))\n",
    "f2.close()\n",
    "f1.close()"
   ]
  },
  {
   "cell_type": "code",
   "execution_count": 59,
   "metadata": {},
   "outputs": [
    {
     "name": "stdout",
     "output_type": "stream",
     "text": [
      "enter a number for reading5\n",
      "is \n",
      "\n"
     ]
    }
   ],
   "source": [
    "# wap to read specific line from a file\n",
    "f=open(\"demo.txt\",\"r\")\n",
    "n=int(input(\"enter a number for reading\"))\n",
    "x=f.readlines()\n",
    "print(x[n-1])\n",
    "f.close()"
   ]
  },
  {
   "cell_type": "code",
   "execution_count": 64,
   "metadata": {},
   "outputs": [],
   "source": [
    "# wap to copy the oddlines from one file to other file\n",
    "f1=open(\"demo.txt\",\"r\")\n",
    "f=f1.readlines()\n",
    "f2=open(\"demo1.txt\",\"w\")\n",
    "f2.writelines(f[::-2])\n",
    "f2.close()\n",
    "f1.close()"
   ]
  },
  {
   "cell_type": "code",
   "execution_count": 7,
   "metadata": {},
   "outputs": [
    {
     "name": "stdout",
     "output_type": "stream",
     "text": [
      "enter file name demo.txt\n",
      "this is python 1\n",
      "\n",
      "this is python 2\n",
      "\n",
      "this is python 3\n",
      "\n",
      "this is python 4\n",
      "\n",
      "this is python 5\n",
      "\n",
      "enter any key=q\n"
     ]
    }
   ],
   "source": [
    "f1=open(input(\"enter file name \"))\n",
    "n=5\n",
    "for i,l in enumerate (f1,1):\n",
    "    print(l)\n",
    "    if i%n==0:\n",
    "        x=input(\"enter any key=\")\n",
    "        if x.lower()==\"q\":\n",
    "            break\n",
    "        else:\n",
    "            continue\n",
    "f2.close()\n",
    "f1.close()"
   ]
  },
  {
   "cell_type": "code",
   "execution_count": 9,
   "metadata": {},
   "outputs": [
    {
     "ename": "UnsupportedOperation",
     "evalue": "not writable",
     "output_type": "error",
     "traceback": [
      "\u001b[1;31m---------------------------------------------------------------------------\u001b[0m",
      "\u001b[1;31mUnsupportedOperation\u001b[0m                      Traceback (most recent call last)",
      "\u001b[1;32m<ipython-input-9-8aba81a2d29f>\u001b[0m in \u001b[0;36m<module>\u001b[1;34m\u001b[0m\n\u001b[0;32m      5\u001b[0m \u001b[0mn2\u001b[0m\u001b[1;33m=\u001b[0m\u001b[0mf2\u001b[0m\u001b[1;33m.\u001b[0m\u001b[0mread\u001b[0m\u001b[1;33m(\u001b[0m\u001b[1;33m)\u001b[0m\u001b[1;33m\u001b[0m\u001b[1;33m\u001b[0m\u001b[0m\n\u001b[0;32m      6\u001b[0m \u001b[0mf3\u001b[0m\u001b[1;33m=\u001b[0m\u001b[0mopen\u001b[0m\u001b[1;33m(\u001b[0m\u001b[1;34m\"demo2.txt\"\u001b[0m\u001b[1;33m,\u001b[0m\u001b[1;34m\"w\"\u001b[0m\u001b[1;33m)\u001b[0m\u001b[1;33m\u001b[0m\u001b[1;33m\u001b[0m\u001b[0m\n\u001b[1;32m----> 7\u001b[1;33m \u001b[0mf1\u001b[0m\u001b[1;33m.\u001b[0m\u001b[0mwrite\u001b[0m\u001b[1;33m(\u001b[0m\u001b[0mn1\u001b[0m\u001b[1;33m)\u001b[0m\u001b[1;33m\u001b[0m\u001b[1;33m\u001b[0m\u001b[0m\n\u001b[0m\u001b[0;32m      8\u001b[0m \u001b[0mf2\u001b[0m\u001b[1;33m.\u001b[0m\u001b[0mwrite\u001b[0m\u001b[1;33m(\u001b[0m\u001b[0mn2\u001b[0m\u001b[1;33m)\u001b[0m\u001b[1;33m\u001b[0m\u001b[1;33m\u001b[0m\u001b[0m\n\u001b[0;32m      9\u001b[0m \u001b[0mf2\u001b[0m\u001b[1;33m.\u001b[0m\u001b[0mclose\u001b[0m\u001b[1;33m(\u001b[0m\u001b[1;33m)\u001b[0m\u001b[1;33m\u001b[0m\u001b[1;33m\u001b[0m\u001b[0m\n",
      "\u001b[1;31mUnsupportedOperation\u001b[0m: not writable"
     ]
    }
   ],
   "source": [
    "# wap to copy the content of two files into a single file \n",
    "f1=open(\"demo.txt\")\n",
    "n1=f1.read()\n",
    "f2=open(\"demo1.txt\")\n",
    "n2=f2.read()\n",
    "f3=open(\"demo2.txt\",\"w\")\n",
    "f1.write(n1)\n",
    "f2.write(n2)\n",
    "f2.close()\n",
    "f1.close()\n",
    "f3.close()"
   ]
  },
  {
   "cell_type": "code",
   "execution_count": 15,
   "metadata": {},
   "outputs": [],
   "source": [
    "# wap to display all the lines of a file except those that # sign\n",
    "f=open(\"demo.txt\",\"r\")\n",
    "f1=open(\"demo1.txt\",\"w\")\n",
    "while True:\n",
    "    b=f.readline()\n",
    "    if len(b)!=0:\n",
    "        if b[0]==\"#\":\n",
    "            continue\n",
    "        else:\n",
    "            if \"#\" in b:\n",
    "                for index in range(1,len(b)):\n",
    "                    if b[index]==\"#\":\n",
    "                        f1.write(b[:index]+\"\\n\")\n",
    "            else:\n",
    "                f1.write(b)\n",
    "    else:\n",
    "        break\n",
    "f.close()\n",
    "f1.close()\n",
    "# demo.txt\n",
    "# # program for file\n",
    "# def sum(a,b): #function defination\n",
    "#     c=a+b\n",
    "#     print(c) #printing the output\n",
    "# this is python\n",
    "# dmeo1.txt\n",
    "#  def sum(a,b): \n",
    "#     c=a+b\n",
    "#     print(c) "
   ]
  },
  {
   "cell_type": "code",
   "execution_count": 27,
   "metadata": {},
   "outputs": [
    {
     "name": "stdout",
     "output_type": "stream",
     "text": [
      "line 1 posiiton 9\n",
      "line 3 posiiton 9\n"
     ]
    }
   ],
   "source": [
    "# wap to compare 2 files and find the difference in line and character\n",
    "# demo.txt\n",
    "# this is Python\n",
    "# this is python\n",
    "# this is Java\n",
    "# this is java\n",
    "# demo1.txt\n",
    "# this is python\n",
    "# this is python\n",
    "# this is java\n",
    "# this is java\n",
    "with open(\"demo.txt\") as f:\n",
    "    s1=f.read()\n",
    "with open(\"demo1.txt\") as f:\n",
    "    s2=f.read()\n",
    "c=n=1\n",
    "for i in range(len(s1)):\n",
    "    if s1[i]==s2[i]:\n",
    "        c=c+1\n",
    "        if s1[i]==\"\\n\":\n",
    "            n+=1\n",
    "            c=1\n",
    "    else:\n",
    "        print(\"line\",n,\"posiiton\",c)\n",
    "        c=c+1"
   ]
  },
  {
   "cell_type": "code",
   "execution_count": 41,
   "metadata": {},
   "outputs": [
    {
     "name": "stdout",
     "output_type": "stream",
     "text": [
      "spaces =  4\n",
      "characters =  34\n",
      "words =  5\n"
     ]
    }
   ],
   "source": [
    "# Wap to count words,characters and spaces from the text file\n",
    "# friends are crazy,friends are naughty!\n",
    "# friends are honest,friends are best!\n",
    "# friends are like keygem,friends are like license key!\n",
    "# we are nothing without friends,life without friends is not possible!\n",
    "f=open(\"demo.txt\",\"r\")\n",
    "x=f.read()\n",
    "print(\"spaces = \",x.count(\" \"))\n",
    "print(\"characters = \",len(x)-x.count(\" \")-x.count(\"\\n\"))\n",
    "s=x.split()\n",
    "print(\"words = \",len(s))\n",
    "# l=f.readline()\n",
    "# l2=f.readline(18)\n",
    "# ch=f.read(10)\n",
    "# print(l2)\n",
    "# print(ch)\n",
    "# print(f.readline())\n",
    "f.close()"
   ]
  },
  {
   "cell_type": "code",
   "execution_count": 10,
   "metadata": {},
   "outputs": [],
   "source": [
    "# wap to read line by line from given files file1 and file2 and write into file3\n",
    "f1=open(\"demo.txt\",\"r\")\n",
    "f2=open(\"demo1.txt\",\"r\")\n",
    "f3=open(\"demo2.txt\",\"w\")\n",
    "n1=f1.readlines()\n",
    "n2=f2.readlines()\n",
    "a1=len(n1)\n",
    "a2=len(n2)\n",
    "m=max(a1,a2)\n",
    "for i in range(m):\n",
    "    if i<a1:\n",
    "        f3.write(n1[i])\n",
    "    if i<a2:\n",
    "        f3.write(n2[i])\n",
    "f3.close()\n",
    "f2.close()\n",
    "f1.close()"
   ]
  },
  {
   "cell_type": "code",
   "execution_count": 38,
   "metadata": {},
   "outputs": [
    {
     "name": "stdout",
     "output_type": "stream",
     "text": [
      "['this', 'is', 'python', 'this', 'is', 'java']\n",
      "python 6\n"
     ]
    }
   ],
   "source": [
    "# wap to find the longest word in the text file\n",
    "f1=open(\"demo.txt\",\"r\")\n",
    "n=f1.read().split()\n",
    "print(n)\n",
    "n.sort(key=len,reverse=True)\n",
    "print(n[0],len(n[0]))"
   ]
  }
 ],
 "metadata": {
  "kernelspec": {
   "display_name": "Python 3",
   "language": "python",
   "name": "python3"
  },
  "language_info": {
   "codemirror_mode": {
    "name": "ipython",
    "version": 3
   },
   "file_extension": ".py",
   "mimetype": "text/x-python",
   "name": "python",
   "nbconvert_exporter": "python",
   "pygments_lexer": "ipython3",
   "version": "3.8.5"
  }
 },
 "nbformat": 4,
 "nbformat_minor": 4
}
