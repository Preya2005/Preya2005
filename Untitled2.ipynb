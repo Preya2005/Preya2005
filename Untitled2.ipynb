{
 "cells": [
  {
   "cell_type": "code",
   "execution_count": 1,
   "metadata": {},
   "outputs": [
    {
     "name": "stdout",
     "output_type": "stream",
     "text": [
      "pavan\n",
      "{10: 'lucky', 20: 'arman', 30: 'aryan', 40: 'pavan'}\n",
      "lucky\n",
      "{10: 'lucky', 20: 'arman', 30: 'aryan', 40: 'pavan'}\n"
     ]
    }
   ],
   "source": [
    "#set default()\n",
    "# syntax = d.setdefault(k,v)\n",
    "d={10:\"lucky\",20:\"arman\",30:\"aryan\"}\n",
    "print(d.setdefault(40,\"pavan\"))\n",
    "print(d)\n",
    "print(d.setdefault(10,\"sachin\"))\n",
    "print(d)"
   ]
  },
  {
   "cell_type": "code",
   "execution_count": 9,
   "metadata": {},
   "outputs": [
    {
     "name": "stdout",
     "output_type": "stream",
     "text": [
      "['the', 'quick', 'brown', 'for', 'jumps', 'over', 'the', 'lazy', 'dog']\n",
      "{'the': 2, 'quick': 1, 'brown': 1, 'for': 1, 'jumps': 1, 'over': 1, 'lazy': 1, 'dog': 1}\n"
     ]
    }
   ],
   "source": [
    "# wap that reads the words from paragraph and stores them as a keys in a dictionary and count the frequency of it as a value\n",
    "s=\"the quick brown for jumps over the lazy dog\"\n",
    "s=s.split()\n",
    "d={}\n",
    "print(s)\n",
    "for i in s:\n",
    "    a=s.count(i)\n",
    "    d.setdefault(i,a)\n",
    "print(d)"
   ]
  },
  {
   "cell_type": "code",
   "execution_count": 10,
   "metadata": {},
   "outputs": [
    {
     "name": "stdout",
     "output_type": "stream",
     "text": [
      "{'d': [\"don't\"], 'w': ['wait'], 'f': ['for'], 'y': ['your'], 'g': ['greetings'], 't': ['to', 'to', 'take'], 'c': ['change'], 'a': ['actions']}\n"
     ]
    }
   ],
   "source": [
    "# wap to create dic with the key as the first character and the value as a list of words starting at the first character\n",
    "s=\"don't wait for your greetings to change to take actions\"\n",
    "words=s.split()\n",
    "d={}\n",
    "for word in words:\n",
    "    key=word[0]\n",
    "    if key in d:\n",
    "        d[key].append(word)\n",
    "    else:\n",
    "        d[key]=[word]\n",
    "print(d)"
   ]
  },
  {
   "cell_type": "markdown",
   "metadata": {},
   "source": [
    "# set\n",
    "- represents a group of unique values as a single entity\n",
    "- duplicates are not allowed\n",
    "- insertion order is not preserved but we can sort elements\n",
    "- indexing and slicing are not allowed\n",
    "- heterogenous object are allowed\n",
    "- mutable\n",
    "- curly brackets with comma seperation\n",
    "- mathematical operators like union,intersection,difference etc\n",
    "- unordered"
   ]
  },
  {
   "cell_type": "code",
   "execution_count": 14,
   "metadata": {},
   "outputs": [
    {
     "name": "stdout",
     "output_type": "stream",
     "text": [
      "{1, 2, 3, 4, 5, 6}\n",
      "<class 'set'>\n",
      "{0, 1, 2, 3, 4}\n",
      "{'l', 'i', 'j', 'e', 't'}\n"
     ]
    }
   ],
   "source": [
    "# creation of set\n",
    "#s=set()\n",
    "l=[1,2,3,4,5,5,6,6,1,1,1]\n",
    "s=set(l)\n",
    "print(s)\n",
    "print(type(s))\n",
    "s=set(range(5))\n",
    "print(s)\n",
    "s=set(\"ljiet\")\n",
    "print(s)"
   ]
  },
  {
   "cell_type": "code",
   "execution_count": 16,
   "metadata": {},
   "outputs": [
    {
     "name": "stdout",
     "output_type": "stream",
     "text": [
      "{40, 10, 50, 20, 60, 30}\n",
      "{40, 10, 50, 20, 60, 30}\n",
      "{40, 30}\n",
      "{40, 30}\n",
      "{10, 20}\n",
      "{10, 20}\n",
      "{50, 60}\n",
      "{50, 60}\n",
      "{10, 50, 20, 60}\n",
      "{10, 50, 20, 60}\n"
     ]
    }
   ],
   "source": [
    "#1. union()\n",
    "x={10,20,30,40}\n",
    "y={30,40,50,60}\n",
    "print(x.union(y))\n",
    "print(x|y)\n",
    "#2. intersection()\n",
    "print(x.intersection(y))\n",
    "print(x&y)\n",
    "#3. difference\n",
    "print(x.difference(y))\n",
    "print(x-y)\n",
    "print(y.difference(x))\n",
    "print(y-x)\n",
    "#symmetric_difference()\n",
    "print(x.symmetric_difference(y))\n",
    "print(x^y)"
   ]
  },
  {
   "cell_type": "code",
   "execution_count": 18,
   "metadata": {},
   "outputs": [
    {
     "name": "stdout",
     "output_type": "stream",
     "text": [
      "False\n",
      "True\n",
      "True\n",
      "False\n"
     ]
    }
   ],
   "source": [
    "#5. issubset()\n",
    "#6. issuperset()\n",
    "x={'a','b','c'}\n",
    "y={'e','f','d','c','b','a'}\n",
    "print(y.issubset(x))\n",
    "print(x.issubset(y))\n",
    "print(y.issuperset(x))\n",
    "print(x.issuperset(y))"
   ]
  },
  {
   "cell_type": "markdown",
   "metadata": {},
   "source": [
    "# membership operators for set\n",
    "- in\n",
    "- not in"
   ]
  },
  {
   "cell_type": "code",
   "execution_count": 19,
   "metadata": {},
   "outputs": [
    {
     "name": "stdout",
     "output_type": "stream",
     "text": [
      "{'I', 'J', 'T', 'E', 'L'}\n",
      "False\n",
      "True\n",
      "True\n",
      "False\n"
     ]
    }
   ],
   "source": [
    "s=set(\"LJIET\")\n",
    "print(s)\n",
    "print('l' in s)\n",
    "print('L' in s)\n",
    "print('T' in s)\n",
    "print('t' in s)"
   ]
  },
  {
   "cell_type": "code",
   "execution_count": 20,
   "metadata": {},
   "outputs": [
    {
     "name": "stdout",
     "output_type": "stream",
     "text": [
      "{0, 2, 40, 10, 30}\n"
     ]
    }
   ],
   "source": [
    "# important functions of set\n",
    "#1. add()\n",
    "s={10,2,0,30}\n",
    "s.add(40)\n",
    "print(s)"
   ]
  },
  {
   "cell_type": "code",
   "execution_count": 21,
   "metadata": {},
   "outputs": [
    {
     "name": "stdout",
     "output_type": "stream",
     "text": [
      "{1, 2, 3, 4, 10, 11, 12, 13, 14, 15, 16, 17, 18, 19, 20, 30, 40, 50, 60, 70}\n"
     ]
    }
   ],
   "source": [
    "#2. update(x,y,z)\n",
    "s={10,20,30}\n",
    "l=[40,50,60,70]\n",
    "s.update(l,range(1,5),range(10,20))\n",
    "print(s)"
   ]
  },
  {
   "cell_type": "code",
   "execution_count": 26,
   "metadata": {},
   "outputs": [
    {
     "name": "stdout",
     "output_type": "stream",
     "text": [
      "{40, 10, 20, 30}\n",
      "{40, 10, 50, 20, 30}\n"
     ]
    }
   ],
   "source": [
    "#3.copy()\n",
    "s={10,20,30,40}\n",
    "y=s.copy()\n",
    "y.add(50)\n",
    "print(s)\n",
    "print(y)"
   ]
  },
  {
   "cell_type": "code",
   "execution_count": 27,
   "metadata": {},
   "outputs": [
    {
     "name": "stdout",
     "output_type": "stream",
     "text": [
      "40\n",
      "{10, 20, 30}\n"
     ]
    }
   ],
   "source": [
    "#4. pop()\n",
    "s={10,20,30,40}\n",
    "print(s.pop())\n",
    "print(s)"
   ]
  },
  {
   "cell_type": "code",
   "execution_count": 28,
   "metadata": {},
   "outputs": [
    {
     "name": "stdout",
     "output_type": "stream",
     "text": [
      "{40, 10, 50, 20, 30}\n",
      "{40, 10, 50, 20}\n"
     ]
    },
    {
     "ename": "KeyError",
     "evalue": "60",
     "output_type": "error",
     "traceback": [
      "\u001b[1;31m---------------------------------------------------------------------------\u001b[0m",
      "\u001b[1;31mKeyError\u001b[0m                                  Traceback (most recent call last)",
      "\u001b[1;32m<ipython-input-28-39d9e1aab2e0>\u001b[0m in \u001b[0;36m<module>\u001b[1;34m\u001b[0m\n\u001b[0;32m      4\u001b[0m \u001b[0ms\u001b[0m\u001b[1;33m.\u001b[0m\u001b[0mremove\u001b[0m\u001b[1;33m(\u001b[0m\u001b[1;36m30\u001b[0m\u001b[1;33m)\u001b[0m\u001b[1;33m\u001b[0m\u001b[1;33m\u001b[0m\u001b[0m\n\u001b[0;32m      5\u001b[0m \u001b[0mprint\u001b[0m\u001b[1;33m(\u001b[0m\u001b[0ms\u001b[0m\u001b[1;33m)\u001b[0m\u001b[1;33m\u001b[0m\u001b[1;33m\u001b[0m\u001b[0m\n\u001b[1;32m----> 6\u001b[1;33m \u001b[0ms\u001b[0m\u001b[1;33m.\u001b[0m\u001b[0mremove\u001b[0m\u001b[1;33m(\u001b[0m\u001b[1;36m60\u001b[0m\u001b[1;33m)\u001b[0m\u001b[1;33m\u001b[0m\u001b[1;33m\u001b[0m\u001b[0m\n\u001b[0m\u001b[0;32m      7\u001b[0m \u001b[0mprint\u001b[0m\u001b[1;33m(\u001b[0m\u001b[0ms\u001b[0m\u001b[1;33m)\u001b[0m\u001b[1;33m\u001b[0m\u001b[1;33m\u001b[0m\u001b[0m\n",
      "\u001b[1;31mKeyError\u001b[0m: 60"
     ]
    }
   ],
   "source": [
    "#5 remove()\n",
    "s={40,10,20,30,50}\n",
    "print(s)\n",
    "s.remove(30)\n",
    "print(s)\n",
    "s.remove(60)\n",
    "print(s)"
   ]
  },
  {
   "cell_type": "code",
   "execution_count": 30,
   "metadata": {},
   "outputs": [
    {
     "name": "stdout",
     "output_type": "stream",
     "text": [
      "set()\n"
     ]
    }
   ],
   "source": [
    "#7. clear()\n",
    "s={10,20,30,40}\n",
    "s.clear()\n",
    "print(s)"
   ]
  },
  {
   "cell_type": "code",
   "execution_count": 29,
   "metadata": {},
   "outputs": [
    {
     "name": "stdout",
     "output_type": "stream",
     "text": [
      "{40, 10, 50, 20, 30}\n",
      "{40, 10, 50, 20}\n",
      "{40, 10, 50, 20}\n"
     ]
    }
   ],
   "source": [
    "#6 discard()\n",
    "s={40,10,20,30,50}\n",
    "print(s)\n",
    "s.discard(30)\n",
    "print(s)\n",
    "s.discard(60)\n",
    "print(s)"
   ]
  },
  {
   "cell_type": "code",
   "execution_count": 31,
   "metadata": {},
   "outputs": [
    {
     "name": "stdout",
     "output_type": "stream",
     "text": [
      "{64, 1, 4, 36, 100, 9, 16, 49, 81, 25}\n",
      "{16, 256, 64, 4}\n"
     ]
    }
   ],
   "source": [
    "#set comprehension\n",
    "s={x*x for x in range(1,11)}\n",
    "print(s)\n",
    "s={2**x for x in range(2,10,2)}\n",
    "print(s)"
   ]
  },
  {
   "cell_type": "code",
   "execution_count": 32,
   "metadata": {},
   "outputs": [
    {
     "name": "stdout",
     "output_type": "stream",
     "text": [
      "{'apple', 'banana', 'strawberry', 'cherry'}\n"
     ]
    },
    {
     "ename": "AttributeError",
     "evalue": "'frozenset' object has no attribute 'add'",
     "output_type": "error",
     "traceback": [
      "\u001b[1;31m---------------------------------------------------------------------------\u001b[0m",
      "\u001b[1;31mAttributeError\u001b[0m                            Traceback (most recent call last)",
      "\u001b[1;32m<ipython-input-32-f2382e612802>\u001b[0m in \u001b[0;36m<module>\u001b[1;34m\u001b[0m\n\u001b[0;32m      5\u001b[0m \u001b[0mprint\u001b[0m\u001b[1;33m(\u001b[0m\u001b[0ms\u001b[0m\u001b[1;33m)\u001b[0m\u001b[1;33m\u001b[0m\u001b[1;33m\u001b[0m\u001b[0m\n\u001b[0;32m      6\u001b[0m \u001b[0ms\u001b[0m\u001b[1;33m=\u001b[0m\u001b[0mfrozenset\u001b[0m\u001b[1;33m(\u001b[0m\u001b[0ml\u001b[0m\u001b[1;33m)\u001b[0m\u001b[1;33m\u001b[0m\u001b[1;33m\u001b[0m\u001b[0m\n\u001b[1;32m----> 7\u001b[1;33m \u001b[0ms\u001b[0m\u001b[1;33m.\u001b[0m\u001b[0madd\u001b[0m\u001b[1;33m(\u001b[0m\u001b[1;34m\"strawberry\"\u001b[0m\u001b[1;33m)\u001b[0m\u001b[1;33m\u001b[0m\u001b[1;33m\u001b[0m\u001b[0m\n\u001b[0m\u001b[0;32m      8\u001b[0m \u001b[0mprint\u001b[0m\u001b[1;33m(\u001b[0m\u001b[0ms\u001b[0m\u001b[1;33m)\u001b[0m\u001b[1;33m\u001b[0m\u001b[1;33m\u001b[0m\u001b[0m\n",
      "\u001b[1;31mAttributeError\u001b[0m: 'frozenset' object has no attribute 'add'"
     ]
    }
   ],
   "source": [
    "# frozenset()\n",
    "l=[\"apple\",\"banana\",\"cherry\"]\n",
    "s=set(l)\n",
    "s.add(\"strawberry\")\n",
    "print(s)\n",
    "s=frozenset(l)\n",
    "s.add(\"strawberry\")\n",
    "print(s)"
   ]
  },
  {
   "cell_type": "code",
   "execution_count": 44,
   "metadata": {},
   "outputs": [
    {
     "name": "stdout",
     "output_type": "stream",
     "text": [
      "CampusX is the best channel for Data-Science students\n"
     ]
    }
   ],
   "source": [
    "#wap to replace words from dictionary you are given a string replace its words from lookup dict\n",
    "s=\"CampusX is best for DS students\"\n",
    "d={\"best\":\"the best channel\",\"DS\":\"Data-Science\"}\n",
    "l=[]\n",
    "a=s.split()\n",
    "for i in a:\n",
    "    if i in d:\n",
    "        l.append(d[i])\n",
    "        \n",
    "    else:\n",
    "        l.append(i)\n",
    "print(\" \".join(l))\n"
   ]
  },
  {
   "cell_type": "code",
   "execution_count": null,
   "metadata": {},
   "outputs": [],
   "source": [
    "#wap to remove all occurences of an element from the given list\n",
    "l=[22,24,3,22,45,48,50,22,33,60,22,48]\n"
   ]
  }
 ],
 "metadata": {
  "kernelspec": {
   "display_name": "Python 3",
   "language": "python",
   "name": "python3"
  },
  "language_info": {
   "codemirror_mode": {
    "name": "ipython",
    "version": 3
   },
   "file_extension": ".py",
   "mimetype": "text/x-python",
   "name": "python",
   "nbconvert_exporter": "python",
   "pygments_lexer": "ipython3",
   "version": "3.8.5"
  }
 },
 "nbformat": 4,
 "nbformat_minor": 4
}
