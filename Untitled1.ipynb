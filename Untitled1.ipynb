{
 "cells": [
  {
   "cell_type": "code",
   "execution_count": 51,
   "metadata": {},
   "outputs": [
    {
     "name": "stdout",
     "output_type": "stream",
     "text": [
      "enter number1,a,2,b,4,55,asit,nimish\n",
      "['1', '2', '4', '5', '5']\n",
      "['a', 'b', 'a', 's', 'i', 't', 'n', 'i', 'm', 'i', 's', 'h']\n"
     ]
    },
    {
     "ename": "TypeError",
     "evalue": "'int' object is not callable",
     "output_type": "error",
     "traceback": [
      "\u001b[1;31m---------------------------------------------------------------------------\u001b[0m",
      "\u001b[1;31mTypeError\u001b[0m                                 Traceback (most recent call last)",
      "\u001b[1;32m<ipython-input-51-a79c040014fa>\u001b[0m in \u001b[0;36m<module>\u001b[1;34m\u001b[0m\n\u001b[0;32m      9\u001b[0m \u001b[0mprint\u001b[0m\u001b[1;33m(\u001b[0m\u001b[0mint_list\u001b[0m\u001b[1;33m)\u001b[0m\u001b[1;33m\u001b[0m\u001b[1;33m\u001b[0m\u001b[0m\n\u001b[0;32m     10\u001b[0m \u001b[0mprint\u001b[0m\u001b[1;33m(\u001b[0m\u001b[0mstr_list\u001b[0m\u001b[1;33m)\u001b[0m\u001b[1;33m\u001b[0m\u001b[1;33m\u001b[0m\u001b[0m\n\u001b[1;32m---> 11\u001b[1;33m \u001b[0mprint\u001b[0m\u001b[1;33m(\u001b[0m\u001b[0mmin\u001b[0m\u001b[1;33m(\u001b[0m\u001b[0mint_list\u001b[0m\u001b[1;33m)\u001b[0m\u001b[1;33m)\u001b[0m\u001b[1;33m\u001b[0m\u001b[1;33m\u001b[0m\u001b[0m\n\u001b[0m\u001b[0;32m     12\u001b[0m \u001b[0mprint\u001b[0m\u001b[1;33m(\u001b[0m\u001b[0mmax\u001b[0m\u001b[1;33m(\u001b[0m\u001b[0mint_list\u001b[0m\u001b[1;33m)\u001b[0m\u001b[1;33m)\u001b[0m\u001b[1;33m\u001b[0m\u001b[1;33m\u001b[0m\u001b[0m\n\u001b[0;32m     13\u001b[0m \u001b[0ma\u001b[0m\u001b[1;33m=\u001b[0m\u001b[0mstr_list\u001b[0m\u001b[1;33m.\u001b[0m\u001b[0mreverse\u001b[0m\u001b[1;33m(\u001b[0m\u001b[1;33m)\u001b[0m\u001b[1;33m\u001b[0m\u001b[1;33m\u001b[0m\u001b[0m\n",
      "\u001b[1;31mTypeError\u001b[0m: 'int' object is not callable"
     ]
    }
   ],
   "source": [
    "a=input(\"enter number\")\n",
    "str_list=[]\n",
    "int_list=[]\n",
    "for i in a:\n",
    "    if i.isdigit():\n",
    "        int_list.append(i)\n",
    "    elif i.isalpha():\n",
    "        str_list.append(i)\n",
    "print(int_list)\n",
    "print(str_list)\n",
    "print(min(int_list))\n",
    "print(max(int_list))\n",
    "a=str_list.reverse()\n",
    "print(a)"
   ]
  },
  {
   "cell_type": "code",
   "execution_count": 9,
   "metadata": {},
   "outputs": [
    {
     "name": "stdout",
     "output_type": "stream",
     "text": [
      "True\n",
      "False\n",
      "True\n",
      "False\n",
      "False\n",
      "True\n",
      "True\n",
      "False\n",
      "False\n",
      "True\n",
      "True\n"
     ]
    }
   ],
   "source": [
    "# comparison operators for list\n",
    "x=[\"Dog\",\"Cat\",\"Rat\"]\n",
    "y=[\"Dog\",\"Cat\",\"Rat\"]\n",
    "z=[\"DOG\",\"CAT\",\"RAT\"]\n",
    "print(x==y)\n",
    "print(x==z)\n",
    "print(x!=z)\n",
    "x=[\"Dog\",\"Cat\",\"Rat\"]\n",
    "y=[\"Rat\",\"Cat\",\"Dog\"]\n",
    "print(x>y)\n",
    "print(x>=y)\n",
    "print(x<y)\n",
    "print(x<=y)\n",
    "x=[50,20,30]\n",
    "y=[50,20,30,100,110]\n",
    "print(x>y)\n",
    "print(x>=y)\n",
    "print(x<y)\n",
    "print(x<=y)"
   ]
  },
  {
   "cell_type": "code",
   "execution_count": 10,
   "metadata": {},
   "outputs": [
    {
     "name": "stdout",
     "output_type": "stream",
     "text": [
      "True\n",
      "True\n",
      "False\n",
      "False\n"
     ]
    }
   ],
   "source": [
    "# membership operators for list\n",
    "#1. in\n",
    "#2. not in\n",
    "n=[10,20,30,40]\n",
    "print(10 in n)\n",
    "print(40 in n)\n",
    "print(50 in n)\n",
    "print(40 not in n)"
   ]
  },
  {
   "cell_type": "code",
   "execution_count": 14,
   "metadata": {},
   "outputs": [
    {
     "name": "stdout",
     "output_type": "stream",
     "text": [
      "[10, 20, 30, 40, 50]\n",
      "[10, 20, 100, 40, 50]\n",
      "[10, 20, 30, 40, 50]\n"
     ]
    }
   ],
   "source": [
    "# aliasing and cloning of list\n",
    "n=[10,20,30,40,50]\n",
    "#x=n[:]\n",
    "x=n.copy()\n",
    "print(x)\n",
    "x[2]=100\n",
    "print(x)\n",
    "print(n)"
   ]
  },
  {
   "cell_type": "code",
   "execution_count": 19,
   "metadata": {},
   "outputs": [
    {
     "name": "stdout",
     "output_type": "stream",
     "text": [
      "10\n",
      "[30, 40]\n",
      "50\n",
      "60\n"
     ]
    }
   ],
   "source": [
    "# nested list\n",
    "n=[10,20,[30,40],[50,60,70]]\n",
    "print(n[0])\n",
    "print(n[2])\n",
    "print(n[3][0])\n",
    "n=[10,20,[30,40],[50,60,70,[60,70]]]\n",
    "print(n[3][3][0])"
   ]
  },
  {
   "cell_type": "code",
   "execution_count": 24,
   "metadata": {},
   "outputs": [
    {
     "name": "stdout",
     "output_type": "stream",
     "text": [
      "[10, 20, 30]\n",
      "[40, 50, 60]\n",
      "[70, 80, 90]\n",
      "10 20 30 \n",
      "40 50 60 \n",
      "70 80 90 \n"
     ]
    }
   ],
   "source": [
    "n=[[10,20,30],[40,50,60],[70,80,90]]\n",
    "for i in n:\n",
    "    print(i)\n",
    "for i in range (len(n)):\n",
    "    for j in range(len(n[i])):\n",
    "        print(n[i][j],end=\" \")\n",
    "    print()"
   ]
  },
  {
   "cell_type": "markdown",
   "metadata": {},
   "source": [
    "# list comprehension\n",
    "- syntax\n",
    "- list=[expression for item in list if condition]"
   ]
  },
  {
   "cell_type": "code",
   "execution_count": 25,
   "metadata": {},
   "outputs": [
    {
     "name": "stdout",
     "output_type": "stream",
     "text": [
      "[1, 4, 9, 16, 25, 36, 49, 64, 81, 100]\n",
      "[1, 4, 9, 16, 25]\n",
      "[4, 16, 36, 64, 100]\n"
     ]
    }
   ],
   "source": [
    "s=[x*x for x in range(1,11)]\n",
    "print(s)\n",
    "v=[x*x for x in range(1,6)]\n",
    "print(v)\n",
    "m=[x for x in s if x%2==0]\n",
    "print(m)"
   ]
  },
  {
   "cell_type": "code",
   "execution_count": 58,
   "metadata": {},
   "outputs": [
    {
     "name": "stdout",
     "output_type": "stream",
     "text": [
      "enter number = 1,2,3,4,5\n"
     ]
    }
   ],
   "source": [
    "# wap to print the largest even and largest odd number in a list\n",
    "l=eval(input(\"enter number = \"))"
   ]
  },
  {
   "cell_type": "markdown",
   "metadata": {},
   "source": [
    "# dictionary"
   ]
  },
  {
   "cell_type": "markdown",
   "metadata": {},
   "source": [
    "- represent a group of objects as key value pairs\n",
    "- rollno - name\n",
    "- phoneno - address\n",
    "- duplicate keys are not allowed but values can be duplicated\n",
    "- heterogenous objects are allowed for both keys and values\n",
    "- insertion order not preserved\n",
    "- mutable\n",
    "- indexing and slicing concepts are not applicable"
   ]
  },
  {
   "cell_type": "code",
   "execution_count": 73,
   "metadata": {},
   "outputs": [
    {
     "name": "stdout",
     "output_type": "stream",
     "text": [
      "<class 'dict'>\n",
      "{10: 'lucky', 20: 'armaan', 30: 'aryan'}\n",
      "armaan\n",
      "{10: 'lucky', 20: 'armaan', 30: 'aryan', 40: 'sumit'}\n",
      "{20: 'armaan', 30: 'aryan', 40: 'sumit'}\n",
      "{}\n"
     ]
    },
    {
     "ename": "NameError",
     "evalue": "name 'd' is not defined",
     "output_type": "error",
     "traceback": [
      "\u001b[1;31m---------------------------------------------------------------------------\u001b[0m",
      "\u001b[1;31mNameError\u001b[0m                                 Traceback (most recent call last)",
      "\u001b[1;32m<ipython-input-73-5f157d0f5c70>\u001b[0m in \u001b[0;36m<module>\u001b[1;34m\u001b[0m\n\u001b[0;32m     20\u001b[0m \u001b[0mprint\u001b[0m\u001b[1;33m(\u001b[0m\u001b[0md\u001b[0m\u001b[1;33m)\u001b[0m\u001b[1;33m\u001b[0m\u001b[1;33m\u001b[0m\u001b[0m\n\u001b[0;32m     21\u001b[0m \u001b[1;32mdel\u001b[0m \u001b[0md\u001b[0m\u001b[1;33m\u001b[0m\u001b[1;33m\u001b[0m\u001b[0m\n\u001b[1;32m---> 22\u001b[1;33m \u001b[0mprint\u001b[0m\u001b[1;33m(\u001b[0m\u001b[0md\u001b[0m\u001b[1;33m)\u001b[0m\u001b[1;33m\u001b[0m\u001b[1;33m\u001b[0m\u001b[0m\n\u001b[0m",
      "\u001b[1;31mNameError\u001b[0m: name 'd' is not defined"
     ]
    }
   ],
   "source": [
    "d={10:40,20:30,30:60}\n",
    "#d={}\n",
    "# or\n",
    "d=dict()\n",
    "print(type(d))\n",
    "d[10]=\"lucky\"\n",
    "d[20]=\"armaan\"\n",
    "d[30]=\"aryan\"\n",
    "print(d)\n",
    "print(d[20])\n",
    "#print(d[40]) keyerror\n",
    "# resolving an error\n",
    "if 40 in d:\n",
    "    print(d[40])\n",
    "d[40]=\"sumit\"\n",
    "print(d)\n",
    "del d[10]\n",
    "print(d)\n",
    "d.clear()\n",
    "print(d)\n",
    "del d\n",
    "print(d)# name error"
   ]
  },
  {
   "cell_type": "code",
   "execution_count": 76,
   "metadata": {},
   "outputs": [
    {
     "name": "stdout",
     "output_type": "stream",
     "text": [
      "{1: 1, 2: 4, 3: 9, 4: 16, 5: 25}\n"
     ]
    }
   ],
   "source": [
    "# dictionary comprehension\n",
    "square={x:x*x for x in range(1,6)}\n",
    "print(square)"
   ]
  },
  {
   "cell_type": "code",
   "execution_count": 79,
   "metadata": {},
   "outputs": [
    {
     "name": "stdout",
     "output_type": "stream",
     "text": [
      "{10: 'arman', 20: 'aryan', 30: 'dhairya'}\n"
     ]
    }
   ],
   "source": [
    "d=dict([(10,\"arman\"),(20,\"aryan\"),(30,\"dhairya\")])# dict is nothing but list of tuple\n",
    "print(d)"
   ]
  },
  {
   "cell_type": "code",
   "execution_count": 82,
   "metadata": {},
   "outputs": [
    {
     "name": "stdout",
     "output_type": "stream",
     "text": [
      "{10: 30, 30: 40, 50: 60}\n",
      "{10: 100, 30: 40, 50: 60}\n",
      "{10: 30, 30: 40, 50: 60}\n"
     ]
    }
   ],
   "source": [
    "# important function of dictionary\n",
    "# 1. dict()\n",
    "# 2. len()\n",
    "# 3. clear()\n",
    "# 4. copy() we can use only x.copy()\n",
    "d={10:30,30:40,50:60}\n",
    "print(d)\n",
    "x=d.copy()\n",
    "x[10]=100\n",
    "print(x)\n",
    "print(d)"
   ]
  },
  {
   "cell_type": "code",
   "execution_count": 84,
   "metadata": {},
   "outputs": [
    {
     "name": "stdout",
     "output_type": "stream",
     "text": [
      "{10: 'a', 20: 'b', 30: 'c', 40: 'd', 50: 'e', 60: 'f', 70: 'g'}\n",
      "{10: 'a', 20: 'b', 30: 'g', 40: 'd', 50: 'e', 60: 'f'}\n"
     ]
    }
   ],
   "source": [
    "# update()\n",
    "d={10:'a',20:'b',30:'c'}\n",
    "x={40:'d',50:'e',60:'f',70:'g'}\n",
    "d.update(x)\n",
    "print(d)\n",
    "d={10:'a',20:'b',30:'c'}\n",
    "x={40:'d',50:'e',60:'f',30:'g'}\n",
    "d.update(x)\n",
    "print(d)"
   ]
  },
  {
   "cell_type": "code",
   "execution_count": 88,
   "metadata": {},
   "outputs": [
    {
     "name": "stdout",
     "output_type": "stream",
     "text": [
      "a\n",
      "a\n",
      "None\n",
      "a\n",
      "guest\n"
     ]
    }
   ],
   "source": [
    "# get()\n",
    "# syntax\n",
    "# d.get(key)\n",
    "# d.get(key,default)\n",
    "d={10:'a',20:'b',30:'c'}\n",
    "print(d[10])\n",
    "print(d.get(10))\n",
    "print(d.get(40))\n",
    "#print(d[40]) # keyerror\n",
    "print(d.get(10,\"guest\"))\n",
    "print(d.get(40,\"guest\"))"
   ]
  },
  {
   "cell_type": "code",
   "execution_count": 90,
   "metadata": {},
   "outputs": [
    {
     "name": "stdout",
     "output_type": "stream",
     "text": [
      "(30, 'dhairya')\n",
      "{10: 'arman', 20: 'aryan'}\n"
     ]
    },
    {
     "ename": "KeyError",
     "evalue": "'popitem(): dictionary is empty'",
     "output_type": "error",
     "traceback": [
      "\u001b[1;31m---------------------------------------------------------------------------\u001b[0m",
      "\u001b[1;31mKeyError\u001b[0m                                  Traceback (most recent call last)",
      "\u001b[1;32m<ipython-input-90-f9f9318f53c4>\u001b[0m in \u001b[0;36m<module>\u001b[1;34m\u001b[0m\n\u001b[0;32m      4\u001b[0m \u001b[0mprint\u001b[0m\u001b[1;33m(\u001b[0m\u001b[0md\u001b[0m\u001b[1;33m)\u001b[0m\u001b[1;33m\u001b[0m\u001b[1;33m\u001b[0m\u001b[0m\n\u001b[0;32m      5\u001b[0m \u001b[0md\u001b[0m\u001b[1;33m=\u001b[0m\u001b[1;33m{\u001b[0m\u001b[1;33m}\u001b[0m\u001b[1;33m\u001b[0m\u001b[1;33m\u001b[0m\u001b[0m\n\u001b[1;32m----> 6\u001b[1;33m \u001b[0mprint\u001b[0m\u001b[1;33m(\u001b[0m\u001b[0md\u001b[0m\u001b[1;33m.\u001b[0m\u001b[0mpopitem\u001b[0m\u001b[1;33m(\u001b[0m\u001b[1;33m)\u001b[0m\u001b[1;33m)\u001b[0m\u001b[1;33m\u001b[0m\u001b[1;33m\u001b[0m\u001b[0m\n\u001b[0m",
      "\u001b[1;31mKeyError\u001b[0m: 'popitem(): dictionary is empty'"
     ]
    }
   ],
   "source": [
    "# popitem()\n",
    "d={10: 'arman', 20: 'aryan', 30: 'dhairya'}\n",
    "print(d.popitem())\n",
    "print(d)\n",
    "d={}\n",
    "#print(d.popitem()) keyerror"
   ]
  },
  {
   "cell_type": "code",
   "execution_count": 94,
   "metadata": {},
   "outputs": [
    {
     "name": "stdout",
     "output_type": "stream",
     "text": [
      "dict_keys([10, 20, 30])\n",
      "dict_values(['arman', 'aryan', 'dhairya'])\n",
      "10\n",
      "20\n",
      "30\n",
      "arman\n",
      "aryan\n",
      "dhairya\n",
      "10 -> arman\n",
      "20 -> aryan\n",
      "30 -> dhairya\n"
     ]
    }
   ],
   "source": [
    "# keys\n",
    "d={10: 'arman', 20: 'aryan', 30: 'dhairya'}\n",
    "print(d.keys())\n",
    "print(d.values())\n",
    "for i in d.keys():\n",
    "    print(i)\n",
    "for i in d.values():\n",
    "    print(i)\n",
    "for k,u in d.items():\n",
    "    print(k,'->',u)"
   ]
  }
 ],
 "metadata": {
  "kernelspec": {
   "display_name": "Python 3",
   "language": "python",
   "name": "python3"
  },
  "language_info": {
   "codemirror_mode": {
    "name": "ipython",
    "version": 3
   },
   "file_extension": ".py",
   "mimetype": "text/x-python",
   "name": "python",
   "nbconvert_exporter": "python",
   "pygments_lexer": "ipython3",
   "version": "3.8.5"
  }
 },
 "nbformat": 4,
 "nbformat_minor": 4
}
